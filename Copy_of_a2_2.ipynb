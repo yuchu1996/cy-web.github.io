{
  "nbformat": 4,
  "nbformat_minor": 0,
  "metadata": {
    "colab": {
      "name": "Copy of a2-2.ipynb",
      "provenance": [],
      "collapsed_sections": [],
      "toc_visible": true,
      "include_colab_link": true
    },
    "kernelspec": {
      "name": "python3",
      "display_name": "Python 3"
    }
  },
  "cells": [
    {
      "cell_type": "markdown",
      "metadata": {
        "id": "view-in-github",
        "colab_type": "text"
      },
      "source": [
        "<a href=\"https://colab.research.google.com/github/yuchu1996/cy-web.github.io/blob/master/Copy_of_a2_2.ipynb\" target=\"_parent\"><img src=\"https://colab.research.google.com/assets/colab-badge.svg\" alt=\"Open In Colab\"/></a>"
      ]
    },
    {
      "cell_type": "markdown",
      "metadata": {
        "id": "PExgXZnCAysF",
        "colab_type": "text"
      },
      "source": [
        "## Convert a Keras model to TF.js format\n",
        "\n",
        "1. Upload your `model.h5`file  from the previous notebook to Colab. \n",
        "\n",
        "1. Running this script will convert it to TensorFlow.js format. You will see a new directory containing a `model.json` file (containing meta data), and one or more `group*.bin` files (containing the weights).\n",
        "\n",
        "1. Download these files to your local machine.\n",
        "\n",
        "1. Next, download the [starter code](https://drive.google.com/drive/folders/1uxbc7IBo8AT8OGZqIe9LJQsqQyeOYPlF?usp=sharing) for your webpage (this is complete, and should work with your flowers model out of the box). There are three files you shoudl download (index.html, index.js, and cat.jpg).\n",
        "\n",
        "1. Create a directory on your local machine (say, `tfjs`) and put all the files from the above two steps there.\n",
        "\n",
        "1. Next, you'll want to start a HTTP Server on your local machine (if you simply open index.html in a browser, you may run into security protections that prevent it from loading scripts. To start a server, you can use one built-in to Python. First, `cd` into your `tfjs` directory.  \n",
        "\n",
        " If you have Python2 installed, run this command in your terminal:\n",
        "\n",
        " `$ python -m SimpleHTTPServer [port]`\n",
        "\n",
        " If you have Python3:\n",
        "\n",
        " `$ python3 -m http.server [port]`\n",
        "\n",
        "1. Now, open a browser (point the URL to `localhost:8888`). Your webpage should appear. To debug, in Chrome you can open the Javascript console via ```View - Developer -> Developer tools -> Console```. Check if there are any errors.\n",
        "\n",
        "References\n",
        "* https://www.tensorflow.org/js/tutorials/conversion/import_keras\n",
        "* https://github.com/tensorflow/tfjs-examples/tree/master/mobilenet"
      ]
    },
    {
      "cell_type": "code",
      "metadata": {
        "id": "-oeRcDOJJbH3",
        "colab_type": "code",
        "outputId": "a9705082-c0b7-4f0f-e2d3-22419fe61292",
        "colab": {
          "base_uri": "https://localhost:8080/",
          "height": 496
        }
      },
      "source": [
        "!pip install -U tensorflowjs"
      ],
      "execution_count": 3,
      "outputs": [
        {
          "output_type": "stream",
          "text": [
            "Requirement already up-to-date: tensorflowjs in /usr/local/lib/python3.6/dist-packages (1.2.10.1)\n",
            "Requirement already satisfied, skipping upgrade: tensorflow==1.14.0 in /usr/local/lib/python3.6/dist-packages (from tensorflowjs) (1.14.0)\n",
            "Requirement already satisfied, skipping upgrade: numpy==1.16.4 in /usr/local/lib/python3.6/dist-packages (from tensorflowjs) (1.16.4)\n",
            "Requirement already satisfied, skipping upgrade: h5py==2.8.0 in /usr/local/lib/python3.6/dist-packages (from tensorflowjs) (2.8.0)\n",
            "Requirement already satisfied, skipping upgrade: six==1.11.0 in /usr/local/lib/python3.6/dist-packages (from tensorflowjs) (1.11.0)\n",
            "Requirement already satisfied, skipping upgrade: gast==0.2.2 in /usr/local/lib/python3.6/dist-packages (from tensorflowjs) (0.2.2)\n",
            "Requirement already satisfied, skipping upgrade: tensorflow-hub==0.5.0 in /usr/local/lib/python3.6/dist-packages (from tensorflowjs) (0.5.0)\n",
            "Requirement already satisfied, skipping upgrade: PyInquirer==1.0.3 in /usr/local/lib/python3.6/dist-packages (from tensorflowjs) (1.0.3)\n",
            "Requirement already satisfied, skipping upgrade: keras-preprocessing>=1.0.5 in /usr/local/lib/python3.6/dist-packages (from tensorflow==1.14.0->tensorflowjs) (1.1.0)\n",
            "Requirement already satisfied, skipping upgrade: wrapt>=1.11.1 in /usr/local/lib/python3.6/dist-packages (from tensorflow==1.14.0->tensorflowjs) (1.11.2)\n",
            "Requirement already satisfied, skipping upgrade: grpcio>=1.8.6 in /usr/local/lib/python3.6/dist-packages (from tensorflow==1.14.0->tensorflowjs) (1.15.0)\n",
            "Requirement already satisfied, skipping upgrade: astor>=0.6.0 in /usr/local/lib/python3.6/dist-packages (from tensorflow==1.14.0->tensorflowjs) (0.8.0)\n",
            "Requirement already satisfied, skipping upgrade: tensorflow-estimator<1.15.0rc0,>=1.14.0rc0 in /usr/local/lib/python3.6/dist-packages (from tensorflow==1.14.0->tensorflowjs) (1.14.0)\n",
            "Requirement already satisfied, skipping upgrade: tensorboard<1.15.0,>=1.14.0 in /usr/local/lib/python3.6/dist-packages (from tensorflow==1.14.0->tensorflowjs) (1.14.0)\n",
            "Requirement already satisfied, skipping upgrade: wheel>=0.26 in /usr/local/lib/python3.6/dist-packages (from tensorflow==1.14.0->tensorflowjs) (0.33.6)\n",
            "Requirement already satisfied, skipping upgrade: keras-applications>=1.0.6 in /usr/local/lib/python3.6/dist-packages (from tensorflow==1.14.0->tensorflowjs) (1.0.8)\n",
            "Requirement already satisfied, skipping upgrade: google-pasta>=0.1.6 in /usr/local/lib/python3.6/dist-packages (from tensorflow==1.14.0->tensorflowjs) (0.1.7)\n",
            "Requirement already satisfied, skipping upgrade: termcolor>=1.1.0 in /usr/local/lib/python3.6/dist-packages (from tensorflow==1.14.0->tensorflowjs) (1.1.0)\n",
            "Requirement already satisfied, skipping upgrade: absl-py>=0.7.0 in /usr/local/lib/python3.6/dist-packages (from tensorflow==1.14.0->tensorflowjs) (0.8.0)\n",
            "Requirement already satisfied, skipping upgrade: protobuf>=3.6.1 in /usr/local/lib/python3.6/dist-packages (from tensorflow==1.14.0->tensorflowjs) (3.7.1)\n",
            "Requirement already satisfied, skipping upgrade: regex>=2016.11.21 in /usr/local/lib/python3.6/dist-packages (from PyInquirer==1.0.3->tensorflowjs) (2019.8.19)\n",
            "Requirement already satisfied, skipping upgrade: prompt-toolkit==1.0.14 in /usr/local/lib/python3.6/dist-packages (from PyInquirer==1.0.3->tensorflowjs) (1.0.14)\n",
            "Requirement already satisfied, skipping upgrade: Pygments>=2.2.0 in /usr/local/lib/python3.6/dist-packages (from PyInquirer==1.0.3->tensorflowjs) (2.4.2)\n",
            "Requirement already satisfied, skipping upgrade: setuptools>=41.0.0 in /usr/local/lib/python3.6/dist-packages (from tensorboard<1.15.0,>=1.14.0->tensorflow==1.14.0->tensorflowjs) (41.2.0)\n",
            "Requirement already satisfied, skipping upgrade: markdown>=2.6.8 in /usr/local/lib/python3.6/dist-packages (from tensorboard<1.15.0,>=1.14.0->tensorflow==1.14.0->tensorflowjs) (3.1.1)\n",
            "Requirement already satisfied, skipping upgrade: werkzeug>=0.11.15 in /usr/local/lib/python3.6/dist-packages (from tensorboard<1.15.0,>=1.14.0->tensorflow==1.14.0->tensorflowjs) (0.16.0)\n",
            "Requirement already satisfied, skipping upgrade: wcwidth in /usr/local/lib/python3.6/dist-packages (from prompt-toolkit==1.0.14->PyInquirer==1.0.3->tensorflowjs) (0.1.7)\n"
          ],
          "name": "stdout"
        }
      ]
    },
    {
      "cell_type": "markdown",
      "metadata": {
        "id": "HdviRjxAAuH3",
        "colab_type": "text"
      },
      "source": [
        ""
      ]
    },
    {
      "cell_type": "markdown",
      "metadata": {
        "id": "5PYBKM5_Am5X",
        "colab_type": "text"
      },
      "source": [
        "### Upload your `model.h5` file to Colab\n",
        "Before running this cell."
      ]
    },
    {
      "cell_type": "code",
      "metadata": {
        "id": "-ci1uuI9Jf-j",
        "colab_type": "code",
        "colab": {}
      },
      "source": [
        "!tensorflowjs_converter \\\n",
        "    --input_format=keras \\\n",
        "    my_model.h5 \\\n",
        "    tfjs_model"
      ],
      "execution_count": 0,
      "outputs": []
    },
    {
      "cell_type": "code",
      "metadata": {
        "id": "SkVHHUHuJrSc",
        "colab_type": "code",
        "outputId": "4b707f21-71d1-401d-99fa-ce91bd7094f8",
        "colab": {
          "base_uri": "https://localhost:8080/",
          "height": 34
        }
      },
      "source": [
        "!pwd"
      ],
      "execution_count": 14,
      "outputs": [
        {
          "output_type": "stream",
          "text": [
            "/content\n"
          ],
          "name": "stdout"
        }
      ]
    },
    {
      "cell_type": "code",
      "metadata": {
        "id": "xQVNWnbTMahW",
        "colab_type": "code",
        "outputId": "c581f77f-75c1-4ac9-fa7b-def94df2de13",
        "colab": {
          "base_uri": "https://localhost:8080/",
          "height": 68
        }
      },
      "source": [
        "!ls /content/tfjs_model -lh"
      ],
      "execution_count": 15,
      "outputs": [
        {
          "output_type": "stream",
          "text": [
            "total 3.3M\n",
            "-rw-r--r-- 1 root root 3.3M Oct 17 04:17 group1-shard1of1.bin\n",
            "-rw-r--r-- 1 root root 5.7K Oct 17 04:17 model.json\n"
          ],
          "name": "stdout"
        }
      ]
    },
    {
      "cell_type": "markdown",
      "metadata": {
        "id": "uDGSlrfZAwFw",
        "colab_type": "text"
      },
      "source": [
        "### Download your converted `model.json` and `group*.bin files\n",
        "Then follow the instructions above."
      ]
    },
    {
      "cell_type": "markdown",
      "metadata": {
        "id": "CD4-ONoTyEcO",
        "colab_type": "text"
      },
      "source": [
        "## Upload my landmark model to Colab and tranfer it into js"
      ]
    },
    {
      "cell_type": "code",
      "metadata": {
        "id": "kaoG4RkEyECH",
        "colab_type": "code",
        "colab": {}
      },
      "source": [
        "!tensorflowjs_converter \\\n",
        "    --input_format=keras \\\n",
        "    sculp_model.h5 \\\n",
        "    tfjs_sculp"
      ],
      "execution_count": 0,
      "outputs": []
    },
    {
      "cell_type": "code",
      "metadata": {
        "id": "BZw7vQ129wDW",
        "colab_type": "code",
        "outputId": "7cfbd068-5689-4e52-9d9a-5078300cb13c",
        "colab": {
          "base_uri": "https://localhost:8080/",
          "height": 34
        }
      },
      "source": [
        "!pwd"
      ],
      "execution_count": 17,
      "outputs": [
        {
          "output_type": "stream",
          "text": [
            "/content\n"
          ],
          "name": "stdout"
        }
      ]
    },
    {
      "cell_type": "code",
      "metadata": {
        "id": "f78KXhEV9yVb",
        "colab_type": "code",
        "outputId": "4a581465-f1d5-4dd3-cd70-ccead7ab225b",
        "colab": {
          "base_uri": "https://localhost:8080/",
          "height": 119
        }
      },
      "source": [
        "!ls /content/tfjs_sculp -lh"
      ],
      "execution_count": 19,
      "outputs": [
        {
          "output_type": "stream",
          "text": [
            "total 14M\n",
            "-rw-r--r-- 1 root root 4.0M Oct 17 04:18 group1-shard1of4.bin\n",
            "-rw-r--r-- 1 root root 4.0M Oct 17 04:18 group1-shard2of4.bin\n",
            "-rw-r--r-- 1 root root 4.0M Oct 17 04:18 group1-shard3of4.bin\n",
            "-rw-r--r-- 1 root root 1.2M Oct 17 04:18 group1-shard4of4.bin\n",
            "-rw-r--r-- 1 root root 5.6K Oct 17 04:18 model.json\n"
          ],
          "name": "stdout"
        }
      ]
    }
  ]
}