{
  "nbformat": 4,
  "nbformat_minor": 0,
  "metadata": {
    "colab": {
      "name": "a4-2.ipynb",
      "provenance": [],
      "collapsed_sections": [],
      "toc_visible": true,
      "machine_shape": "hm",
      "include_colab_link": true
    },
    "kernelspec": {
      "name": "python3",
      "display_name": "Python 3"
    },
    "accelerator": "GPU"
  },
  "cells": [
    {
      "cell_type": "markdown",
      "metadata": {
        "id": "view-in-github",
        "colab_type": "text"
      },
      "source": [
        "<a href=\"https://colab.research.google.com/github/yuchu1996/cy-web.github.io/blob/master/a4_2.ipynb\" target=\"_parent\"><img src=\"https://colab.research.google.com/assets/colab-badge.svg\" alt=\"Open In Colab\"/></a>"
      ]
    },
    {
      "cell_type": "markdown",
      "metadata": {
        "id": "mOquqKzb2Nj4",
        "colab_type": "text"
      },
      "source": [
        "# A4: Visual Question Answering\n",
        "\n",
        "In this assignment, you'll gain experience working with multi-input models. You'll develop a model that takes a question and an image as input, and returns a yes/no answer in response. You'll also gain experience working with larger datasets.\n",
        "\n",
        "You are welcome to implement your model using either Model Subclassing or the Functional API. I suggest using the Functional API - it's worth gaining experience with, so you're familiar with it down the road. \n",
        "\n",
        "In either case, you will likely spend more time preparing and preprocessing the dataset, than you will developing your model.\n",
        "\n",
        "## Your starter dataset\n",
        "\n",
        "The [VQA dataset](https://visualqa.org/download.html) includes images and JSON containing the questions and answers. To save you time parsing the JSON (and various other preprocessing work), I've prepared a subset of the dataset in an easier to read CSV file. \n",
        "\n",
        "You should download your starter dataset from [here](https://storage.cloud.google.com/applied-dl/mini-vqa/starter.csv). \n",
        "\n",
        "Your starter CSV has three columns, giving the question, answer, and image.\n",
        "\n",
        "question|answer|image\n",
        ":-----:|:-----:|:-----:\n",
        "is the sky blue|yes|COCO\\_train2014\\_000000393221.jpg\n",
        "is there snow on the mountains|yes|COCO\\_train2014\\_000000393221.jpg\n",
        "is the window open|no|COCO\\_train2014\\_000000393223.jpg\n",
        "\n",
        "### Notes on how this was prepared.\n",
        "* The starter dataset contains all the \"yes\" / \"no\" questions from the VQA v2 training annotations. \n",
        "* The answers are the most frequent one to the question (ties broken randomly). \n",
        "* The text has been cleaned (lowercased, punctuation removed). \n",
        "* Each image has at least two associated questions, some have more.\n",
        "* There are 140,637 questions, and 42,985 images.\n",
        "* The image filenames correspond to the [COCO 2014 training images](http://images.cocodataset.org/zips/train2014.zip). Note this file is about 11GB. You will need to download this later.\n",
        "\n",
        "### A note on downloading the COCO training images\n",
        "\n",
        "The training images are large, and you may not want to download them repeatedly in Colab (for example, if your instance disconnects). Continue reading the assignment below for tips before downloading them. \n",
        "\n",
        "In general, your workflow for this assignment will be to:\n",
        "\n",
        "Part 1: \n",
        "- Write a separate notebook to download the training images. \n",
        "- Preprocess the images referenced in the starter dataset (e.g. by resizing them to 299x299). Disgard the other images. \n",
        "- Create a zip containing only the resized images from the starter dataset (it should be about 500MB) and upload that to web.\n",
        "- To host a zip on the web, you can use either your Columbia account, or any Cloud provider (for example, [Cloud storage](https://cloud.google.com/storage/docs/creating-buckets)). Do not pay for a Cloud solution for this class (GCP, for example, has a free tier you can use).\n",
        "\n",
        "Part 2:\n",
        "- Write a separate notebook to train your model. At the start of this notebook, download your 500MB zip containing the preprocessed training images using a command like ```!wget``` or the code shown below.\n",
        "\n",
        "### A note on creating and training your model\n",
        "\n",
        "You can find an example VQA model at the bottom of this [guide](https://keras.io/getting-started/functional-api-guide/). Note: you should start with a smaller model (in terms of vocabulary size,sequence length, and other parameters). \n",
        "\n",
        "Other changes: \n",
        "* Instead of training a CNN from scratch, you will use a pretrained model (Inception-V3) and cache activations to disk. \n",
        "* Your model will take a while to train. It is important that you save a [checkpoint](https://www.tensorflow.org/guide/keras/save_and_serialize) to disk after each epoch (or every several epochs). Before training your model, check for existing checkpoints, and load the latest one.\n",
        "\n",
        "Training tips:\n",
        "\n",
        "* When developing a complex model, it is important to fit on a single batch first (repeatedly train on the same batch of 32 examples and labels). Verify your model can successfully memorize this data (the loss should go to zero). \n",
        "\n",
        "* Next, write code to make predictions on each of these images, and to display the image, question, and answer. Make sure the results are sensible. \n",
        "\n",
        "* As always, start with a simple model, get that working end-to-end, then gradually scale up.\n",
        "\n",
        "* Code defensively and get to know your data. There will be several preprocessing steps (resizing images, caching actiations, tokenization, padding, etc). After each one, write a short block of code to verify the output is correct.\n",
        "\n",
        "## Starter code\n",
        "\n",
        "The starter code below contains various blocks you can use for your two notebooks (the first to download and preprocess the data, the second to train your model).\n",
        "\n",
        "## Submission instructions\n",
        "\n",
        "Please submit this assignment on CourseWorks by uploading one or more Jupyter notebooks that include saved output."
      ]
    },
    {
      "cell_type": "code",
      "metadata": {
        "id": "tWV2Ob0unYLE",
        "colab_type": "code",
        "colab": {
          "base_uri": "https://localhost:8080/",
          "height": 52
        },
        "outputId": "1ca804bc-c0e3-4d4f-d42f-29344f4bde2a"
      },
      "source": [
        "!pip install Pillow # used to resize images"
      ],
      "execution_count": 7,
      "outputs": [
        {
          "output_type": "stream",
          "text": [
            "Requirement already satisfied: Pillow in /usr/local/lib/python3.6/dist-packages (4.3.0)\n",
            "Requirement already satisfied: olefile in /usr/local/lib/python3.6/dist-packages (from Pillow) (0.46)\n"
          ],
          "name": "stdout"
        }
      ]
    },
    {
      "cell_type": "code",
      "metadata": {
        "id": "m9thHjd3JomO",
        "colab_type": "code",
        "colab": {}
      },
      "source": [
        "import matplotlib.image as mpimg\n",
        "import matplotlib.pyplot as plt\n",
        "import numpy as np\n",
        "import os\n",
        "import pickle\n",
        "import random\n",
        "import shutil\n",
        "import time\n",
        "\n",
        "from google.colab import drive\n",
        "from PIL import Image\n",
        "from sklearn.model_selection import train_test_split"
      ],
      "execution_count": 0,
      "outputs": []
    },
    {
      "cell_type": "code",
      "metadata": {
        "id": "LBeg8kixJ7V2",
        "colab_type": "code",
        "colab": {}
      },
      "source": [
        "%tensorflow_version 2.x\n",
        "import tensorflow as tf"
      ],
      "execution_count": 0,
      "outputs": []
    },
    {
      "cell_type": "markdown",
      "metadata": {
        "id": "VhTJlvf_o9vF",
        "colab_type": "text"
      },
      "source": [
        "## Notebook one: Download and preprocess the COCO training images\n",
        "Create a new notebook for this part of the assignment.\n",
        "\n",
        "In this section, you will download your starter CSV and the COCO training images. Preprocess the +/- 40,000 images from the starter CSV (by resizing them to 299x299 using Pillow), and create a zip file called \"thumbnails.zip\". Your zip should be around 500MB. \n",
        "\n",
        "Finally, upload your \"thumbnails.zip\" to the Cloud, so you can easily download it in your second notebook.\n",
        "\n",
        "### Tips\n",
        "\n",
        "I recommend downloading the COCO images with curl, so you can resume your download if it is [interrupted](https://stackoverflow.com/questions/19728930/how-to-resume-interrupted-download-automatically-in-curl) or stalls.\n",
        "\n",
        "In Colab (or on Linux / Mac):\n",
        "\n",
        "```\n",
        "$ curl -L -O your_url\n",
        "```\n",
        "\n",
        "You can download these images in Colab, but you may need to be mindful of disk usage. As a tip to save disk space, after unzipping them, you may delete any images from the zip not referenced in the starter code.\n",
        "\n",
        "After you've downloaded them with curl, here's a command  you can use to unzip them:\n",
        "\n",
        "```\n",
        "$ unzip -q from_zip -d to_folder\n",
        "```\n",
        "\n",
        "Also note: there are so many images that opening the folder in the Colab will be slow. Instead of opening the folder with the UI, you can use these shell commands to explore it:\n",
        "\n",
        "```\n",
        "$ ls -lha\n",
        "$ du -sh\n",
        "```"
      ]
    },
    {
      "cell_type": "markdown",
      "metadata": {
        "id": "GKNgLhjovm5u",
        "colab_type": "text"
      },
      "source": [
        "## Notebook two: Preprocessing and training\n",
        "Create a new notebook for this. At the start, download your starter CSV and thumbnails.zip.\n",
        "\n",
        "The starter code below assumes you have created a zip file called \"thumbnails.zip\" containing only the resized images from the COOC training set mentioned in the starter CSV, and that you can download it from a URL."
      ]
    },
    {
      "cell_type": "code",
      "metadata": {
        "id": "NSE6R8G0iMNY",
        "colab_type": "code",
        "colab": {}
      },
      "source": [
        "# Starter code to download small files\n",
        "# Use this to download your starter CSV in notebook one and two.\n",
        "# Also use it to download your thumbnails.zip in notebook two.\n",
        "def download_if_missing(url, target, extract=True):\n",
        "  if os.path.exists(target):\n",
        "    return target\n",
        "  return tf.keras.utils.get_file(target, origin=url, extract=extract)"
      ],
      "execution_count": 0,
      "outputs": []
    },
    {
      "cell_type": "code",
      "metadata": {
        "id": "DbP0Mkw_wQyU",
        "colab_type": "code",
        "colab": {}
      },
      "source": [
        "colab_root = \"/content/\" "
      ],
      "execution_count": 0,
      "outputs": []
    },
    {
      "cell_type": "markdown",
      "metadata": {
        "id": "AzwWPJ5muPS4",
        "colab_type": "text"
      },
      "source": [
        "### Download the starter CSV"
      ]
    },
    {
      "cell_type": "code",
      "metadata": {
        "id": "UPGj4DpRwWE7",
        "colab_type": "code",
        "colab": {
          "base_uri": "https://localhost:8080/",
          "height": 69
        },
        "outputId": "ebcac3a0-7d9c-45dc-b9d0-4edfa2d56faa"
      },
      "source": [
        "csv_path = os.path.join(colab_root, \"starter.csv\")\n",
        "download_if_missing(\"https://storage.googleapis.com/applied-dl/mini-vqa/starter.csv\",\n",
        "                     csv_path)"
      ],
      "execution_count": 12,
      "outputs": [
        {
          "output_type": "stream",
          "text": [
            "Downloading data from https://storage.googleapis.com/applied-dl/mini-vqa/starter.csv\n",
            "9084928/9078552 [==============================] - 0s 0us/step\n"
          ],
          "name": "stdout"
        },
        {
          "output_type": "execute_result",
          "data": {
            "text/plain": [
              "'/content/starter.csv'"
            ]
          },
          "metadata": {
            "tags": []
          },
          "execution_count": 12
        }
      ]
    },
    {
      "cell_type": "markdown",
      "metadata": {
        "id": "DoIeRieewcDj",
        "colab_type": "text"
      },
      "source": [
        "### Download and unzip your thumbnails\n",
        "\n",
        "This file is small enough that you can quickly download it with this method."
      ]
    },
    {
      "cell_type": "code",
      "metadata": {
        "id": "4mrz3G3CxO3F",
        "colab_type": "code",
        "colab": {}
      },
      "source": [
        "# Your code here\n",
        "YOUR_THUMBNAILS_URL = \"https://storage.googleapis.com/chu-bucket/thumbnails.zip\""
      ],
      "execution_count": 0,
      "outputs": []
    },
    {
      "cell_type": "code",
      "metadata": {
        "id": "dgMG4Rav8H_K",
        "colab_type": "code",
        "colab": {
          "base_uri": "https://localhost:8080/",
          "height": 69
        },
        "outputId": "369f8397-fd86-456d-bf95-328795447210"
      },
      "source": [
        "thumbnails_file = os.path.join(colab_root, \"thumbnails.zip\")\n",
        "images_folder = os.path.join(colab_root, 'thumbnails/')\n",
        "download_if_missing(YOUR_THUMBNAILS_URL,\n",
        "                    thumbnails_file,\n",
        "                    extract=False)"
      ],
      "execution_count": 14,
      "outputs": [
        {
          "output_type": "stream",
          "text": [
            "Downloading data from https://storage.googleapis.com/chu-bucket/thumbnails.zip\n",
            "556507136/556501021 [==============================] - 4s 0us/step\n"
          ],
          "name": "stdout"
        },
        {
          "output_type": "execute_result",
          "data": {
            "text/plain": [
              "'/content/thumbnails.zip'"
            ]
          },
          "metadata": {
            "tags": []
          },
          "execution_count": 14
        }
      ]
    },
    {
      "cell_type": "code",
      "metadata": {
        "id": "TUk0X-DsrgMd",
        "colab_type": "code",
        "colab": {
          "base_uri": "https://localhost:8080/",
          "height": 35
        },
        "outputId": "25bf621c-650b-4d25-b665-87dbb1674381"
      },
      "source": [
        "! du -sh thumbnails.zip"
      ],
      "execution_count": 15,
      "outputs": [
        {
          "output_type": "stream",
          "text": [
            "531M\tthumbnails.zip\n"
          ],
          "name": "stdout"
        }
      ]
    },
    {
      "cell_type": "code",
      "metadata": {
        "id": "Manup0SxRKF3",
        "colab_type": "code",
        "colab": {}
      },
      "source": [
        "!unzip -q $thumbnails_file -d $images_folder"
      ],
      "execution_count": 0,
      "outputs": []
    },
    {
      "cell_type": "code",
      "metadata": {
        "id": "K9kw6tdtSHdI",
        "colab_type": "code",
        "colab": {
          "base_uri": "https://localhost:8080/",
          "height": 104
        },
        "outputId": "83960d92-5e62-4411-9a75-a470172d9ea4"
      },
      "source": [
        "!ls $images_folder | head -5"
      ],
      "execution_count": 17,
      "outputs": [
        {
          "output_type": "stream",
          "text": [
            "COCO_train2014_000000000025.jpg\n",
            "COCO_train2014_000000000030.jpg\n",
            "COCO_train2014_000000000049.jpg\n",
            "COCO_train2014_000000000064.jpg\n",
            "COCO_train2014_000000000071.jpg\n"
          ],
          "name": "stdout"
        }
      ]
    },
    {
      "cell_type": "markdown",
      "metadata": {
        "id": "ifotaRuEyPhR",
        "colab_type": "text"
      },
      "source": [
        "### Sanity check\n",
        "\n",
        "At this point, you have all the data you need to train your model (questions, answers, and images) in a convenient and easy to read format. \n",
        "\n",
        "Now would be a good time for another santity check. Write a block of code to iterate over the starter CSV file. For each image, make sure you can locate it on disk. E.g., \n",
        "\n",
        "``` \n",
        "for question, answer, image_name in data:\n",
        "  img_path = os.path.join(images_folder, image_name)\n",
        "  assert os.path.exists(img_path)\n",
        "```\n",
        "\n",
        "Since we're in a new notebook, again display a few questions, answers, and images - verify everything works as expected."
      ]
    },
    {
      "cell_type": "code",
      "metadata": {
        "id": "k7C3Iw84u32u",
        "colab_type": "code",
        "colab": {}
      },
      "source": [
        "import csv\n",
        "with open('starter.csv') as myfile:\n",
        "   reader = csv.reader(myfile, delimiter=',')\n",
        "   for row in reader:\n",
        "      question, answer, image = row\n",
        "      image = image.strip()\n",
        "      assert os.path.exists(os.path.join(\"/content/thumbnails/\", image))"
      ],
      "execution_count": 0,
      "outputs": []
    },
    {
      "cell_type": "code",
      "metadata": {
        "id": "JyqY8UNsxmK8",
        "colab_type": "code",
        "colab": {
          "base_uri": "https://localhost:8080/",
          "height": 202
        },
        "outputId": "e705b7d8-dbf8-464a-a2e6-07d28ae8e683"
      },
      "source": [
        "import pandas as pd\n",
        "st = pd.read_csv(\"starter.csv\", header=None, names=['Q','A','name'])\n",
        "\n",
        "st[st.name==\"COCO_train2014_000000393224.jpg\"]"
      ],
      "execution_count": 19,
      "outputs": [
        {
          "output_type": "execute_result",
          "data": {
            "text/html": [
              "<div>\n",
              "<style scoped>\n",
              "    .dataframe tbody tr th:only-of-type {\n",
              "        vertical-align: middle;\n",
              "    }\n",
              "\n",
              "    .dataframe tbody tr th {\n",
              "        vertical-align: top;\n",
              "    }\n",
              "\n",
              "    .dataframe thead th {\n",
              "        text-align: right;\n",
              "    }\n",
              "</style>\n",
              "<table border=\"1\" class=\"dataframe\">\n",
              "  <thead>\n",
              "    <tr style=\"text-align: right;\">\n",
              "      <th></th>\n",
              "      <th>Q</th>\n",
              "      <th>A</th>\n",
              "      <th>name</th>\n",
              "    </tr>\n",
              "  </thead>\n",
              "  <tbody>\n",
              "    <tr>\n",
              "      <th>4</th>\n",
              "      <td>is the man smiling</td>\n",
              "      <td>no</td>\n",
              "      <td>COCO_train2014_000000393224.jpg</td>\n",
              "    </tr>\n",
              "    <tr>\n",
              "      <th>5</th>\n",
              "      <td>does his tie pair well with his suit</td>\n",
              "      <td>no</td>\n",
              "      <td>COCO_train2014_000000393224.jpg</td>\n",
              "    </tr>\n",
              "    <tr>\n",
              "      <th>6</th>\n",
              "      <td>does the man look happy</td>\n",
              "      <td>no</td>\n",
              "      <td>COCO_train2014_000000393224.jpg</td>\n",
              "    </tr>\n",
              "    <tr>\n",
              "      <th>7</th>\n",
              "      <td>is this photo in color</td>\n",
              "      <td>no</td>\n",
              "      <td>COCO_train2014_000000393224.jpg</td>\n",
              "    </tr>\n",
              "    <tr>\n",
              "      <th>8</th>\n",
              "      <td>is the man wearing a plain tie</td>\n",
              "      <td>no</td>\n",
              "      <td>COCO_train2014_000000393224.jpg</td>\n",
              "    </tr>\n",
              "  </tbody>\n",
              "</table>\n",
              "</div>"
            ],
            "text/plain": [
              "                                      Q   A                             name\n",
              "4                    is the man smiling  no  COCO_train2014_000000393224.jpg\n",
              "5  does his tie pair well with his suit  no  COCO_train2014_000000393224.jpg\n",
              "6               does the man look happy  no  COCO_train2014_000000393224.jpg\n",
              "7                is this photo in color  no  COCO_train2014_000000393224.jpg\n",
              "8        is the man wearing a plain tie  no  COCO_train2014_000000393224.jpg"
            ]
          },
          "metadata": {
            "tags": []
          },
          "execution_count": 19
        }
      ]
    },
    {
      "cell_type": "code",
      "metadata": {
        "id": "dwkQtpA8wC9q",
        "colab_type": "code",
        "colab": {
          "base_uri": "https://localhost:8080/",
          "height": 287
        },
        "outputId": "087138b0-9770-4287-e5ec-ad3886dab6e9"
      },
      "source": [
        "import matplotlib.pyplot as plt\n",
        "import matplotlib.image as im\n",
        "\n",
        "img = plt.imread(\"/content/thumbnails/COCO_train2014_000000393224.jpg\")\n",
        "plt.imshow(img)"
      ],
      "execution_count": 20,
      "outputs": [
        {
          "output_type": "execute_result",
          "data": {
            "text/plain": [
              "<matplotlib.image.AxesImage at 0x7f4126f9d780>"
            ]
          },
          "metadata": {
            "tags": []
          },
          "execution_count": 20
        },
        {
          "output_type": "display_data",
          "data": {
            "image/png": "[encoded data removed]",
            "text/plain": [
              "<Figure size 432x288 with 1 Axes>"
            ]
          },
          "metadata": {
            "tags": []
          }
        }
      ]
    },
    {
      "cell_type": "code",
      "metadata": {
        "id": "yHkGx1kiwsmz",
        "colab_type": "code",
        "colab": {
          "base_uri": "https://localhost:8080/",
          "height": 423
        },
        "outputId": "0f992c84-8b2c-4fae-9eea-6296fd04fbe7"
      },
      "source": [
        "names = st.name.unique()\n",
        "\n",
        "img = plt.imread(\"/content/thumbnails/\" + names[8])\n",
        "plt.imshow(img)\n",
        "\n",
        "st[st.name==names[8]]\n"
      ],
      "execution_count": 21,
      "outputs": [
        {
          "output_type": "execute_result",
          "data": {
            "text/html": [
              "<div>\n",
              "<style scoped>\n",
              "    .dataframe tbody tr th:only-of-type {\n",
              "        vertical-align: middle;\n",
              "    }\n",
              "\n",
              "    .dataframe tbody tr th {\n",
              "        vertical-align: top;\n",
              "    }\n",
              "\n",
              "    .dataframe thead th {\n",
              "        text-align: right;\n",
              "    }\n",
              "</style>\n",
              "<table border=\"1\" class=\"dataframe\">\n",
              "  <thead>\n",
              "    <tr style=\"text-align: right;\">\n",
              "      <th></th>\n",
              "      <th>Q</th>\n",
              "      <th>A</th>\n",
              "      <th>name</th>\n",
              "    </tr>\n",
              "  </thead>\n",
              "  <tbody>\n",
              "    <tr>\n",
              "      <th>24</th>\n",
              "      <td>is the light on</td>\n",
              "      <td>no</td>\n",
              "      <td>COCO_train2014_000000131075.jpg</td>\n",
              "    </tr>\n",
              "    <tr>\n",
              "      <th>25</th>\n",
              "      <td>is the room messy</td>\n",
              "      <td>no</td>\n",
              "      <td>COCO_train2014_000000131075.jpg</td>\n",
              "    </tr>\n",
              "    <tr>\n",
              "      <th>26</th>\n",
              "      <td>is this a tv screen</td>\n",
              "      <td>yes</td>\n",
              "      <td>COCO_train2014_000000131075.jpg</td>\n",
              "    </tr>\n",
              "    <tr>\n",
              "      <th>27</th>\n",
              "      <td>is there a laptop in the image</td>\n",
              "      <td>yes</td>\n",
              "      <td>COCO_train2014_000000131075.jpg</td>\n",
              "    </tr>\n",
              "  </tbody>\n",
              "</table>\n",
              "</div>"
            ],
            "text/plain": [
              "                                 Q    A                             name\n",
              "24                 is the light on   no  COCO_train2014_000000131075.jpg\n",
              "25               is the room messy   no  COCO_train2014_000000131075.jpg\n",
              "26             is this a tv screen  yes  COCO_train2014_000000131075.jpg\n",
              "27  is there a laptop in the image  yes  COCO_train2014_000000131075.jpg"
            ]
          },
          "metadata": {
            "tags": []
          },
          "execution_count": 21
        },
        {
          "output_type": "display_data",
          "data": {
            "image/png": "[encoded data removed]",
            "text/plain": [
              "<Figure size 432x288 with 1 Axes>"
            ]
          },
          "metadata": {
            "tags": []
          }
        }
      ]
    },
    {
      "cell_type": "code",
      "metadata": {
        "id": "EBaGKh-6xGZO",
        "colab_type": "code",
        "colab": {
          "base_uri": "https://localhost:8080/",
          "height": 363
        },
        "outputId": "3f610d37-85f9-41cc-b445-fb0d7d0118f0"
      },
      "source": [
        "names = st.name.unique()\n",
        "\n",
        "img = plt.imread(\"/content/thumbnails/\" + names[9])\n",
        "plt.imshow(img)\n",
        "\n",
        "st[st.name==names[9]]"
      ],
      "execution_count": 22,
      "outputs": [
        {
          "output_type": "execute_result",
          "data": {
            "text/html": [
              "<div>\n",
              "<style scoped>\n",
              "    .dataframe tbody tr th:only-of-type {\n",
              "        vertical-align: middle;\n",
              "    }\n",
              "\n",
              "    .dataframe tbody tr th {\n",
              "        vertical-align: top;\n",
              "    }\n",
              "\n",
              "    .dataframe thead th {\n",
              "        text-align: right;\n",
              "    }\n",
              "</style>\n",
              "<table border=\"1\" class=\"dataframe\">\n",
              "  <thead>\n",
              "    <tr style=\"text-align: right;\">\n",
              "      <th></th>\n",
              "      <th>Q</th>\n",
              "      <th>A</th>\n",
              "      <th>name</th>\n",
              "    </tr>\n",
              "  </thead>\n",
              "  <tbody>\n",
              "    <tr>\n",
              "      <th>28</th>\n",
              "      <td>are there rocks in the picture</td>\n",
              "      <td>yes</td>\n",
              "      <td>COCO_train2014_000000131093.jpg</td>\n",
              "    </tr>\n",
              "    <tr>\n",
              "      <th>29</th>\n",
              "      <td>has the sheep recently been shaved</td>\n",
              "      <td>no</td>\n",
              "      <td>COCO_train2014_000000131093.jpg</td>\n",
              "    </tr>\n",
              "    <tr>\n",
              "      <th>30</th>\n",
              "      <td>are there three sheep</td>\n",
              "      <td>yes</td>\n",
              "      <td>COCO_train2014_000000131093.jpg</td>\n",
              "    </tr>\n",
              "  </tbody>\n",
              "</table>\n",
              "</div>"
            ],
            "text/plain": [
              "                                     Q    A                             name\n",
              "28      are there rocks in the picture  yes  COCO_train2014_000000131093.jpg\n",
              "29  has the sheep recently been shaved   no  COCO_train2014_000000131093.jpg\n",
              "30               are there three sheep  yes  COCO_train2014_000000131093.jpg"
            ]
          },
          "metadata": {
            "tags": []
          },
          "execution_count": 22
        },
        {
          "output_type": "display_data",
          "data": {
            "image/png": "[encoded data removed]",
            "text/plain": [
              "<Figure size 432x288 with 1 Axes>"
            ]
          },
          "metadata": {
            "tags": []
          }
        }
      ]
    },
    {
      "cell_type": "markdown",
      "metadata": {
        "id": "EP0BexdF8NXH",
        "colab_type": "text"
      },
      "source": [
        "### Convert answers to numeric format\n",
        "\n",
        "The answers in the starter CSV are \"yes\" or \"no\". For convenience, now would be a good time to change those to 1.0 and 0.0."
      ]
    },
    {
      "cell_type": "code",
      "metadata": {
        "id": "VsvJHe1krz9R",
        "colab_type": "code",
        "colab": {}
      },
      "source": [
        "# Your code here\n",
        "# Convert the answers column in the starter CSV to 1.0 and 0.0\n",
        "# You do not need to update the CSV itself. If you have a data structure\n",
        "# in memory, you can work with that instead.\n",
        "st['A'] = st.A.map({'yes':0.0, 'no':1.0})"
      ],
      "execution_count": 0,
      "outputs": []
    },
    {
      "cell_type": "code",
      "metadata": {
        "id": "vPvg8nBjL2o_",
        "colab_type": "code",
        "colab": {
          "base_uri": "https://localhost:8080/",
          "height": 202
        },
        "outputId": "4b4aadf1-c253-4ef0-f4f5-968919a9a0f4"
      },
      "source": [
        "st.head(5)"
      ],
      "execution_count": 24,
      "outputs": [
        {
          "output_type": "execute_result",
          "data": {
            "text/html": [
              "<div>\n",
              "<style scoped>\n",
              "    .dataframe tbody tr th:only-of-type {\n",
              "        vertical-align: middle;\n",
              "    }\n",
              "\n",
              "    .dataframe tbody tr th {\n",
              "        vertical-align: top;\n",
              "    }\n",
              "\n",
              "    .dataframe thead th {\n",
              "        text-align: right;\n",
              "    }\n",
              "</style>\n",
              "<table border=\"1\" class=\"dataframe\">\n",
              "  <thead>\n",
              "    <tr style=\"text-align: right;\">\n",
              "      <th></th>\n",
              "      <th>Q</th>\n",
              "      <th>A</th>\n",
              "      <th>name</th>\n",
              "    </tr>\n",
              "  </thead>\n",
              "  <tbody>\n",
              "    <tr>\n",
              "      <th>0</th>\n",
              "      <td>is the sky blue</td>\n",
              "      <td>0.0</td>\n",
              "      <td>COCO_train2014_000000393221.jpg</td>\n",
              "    </tr>\n",
              "    <tr>\n",
              "      <th>1</th>\n",
              "      <td>is there snow on the mountains</td>\n",
              "      <td>0.0</td>\n",
              "      <td>COCO_train2014_000000393221.jpg</td>\n",
              "    </tr>\n",
              "    <tr>\n",
              "      <th>2</th>\n",
              "      <td>is the window open</td>\n",
              "      <td>0.0</td>\n",
              "      <td>COCO_train2014_000000393223.jpg</td>\n",
              "    </tr>\n",
              "    <tr>\n",
              "      <th>3</th>\n",
              "      <td>is she brushing</td>\n",
              "      <td>0.0</td>\n",
              "      <td>COCO_train2014_000000393223.jpg</td>\n",
              "    </tr>\n",
              "    <tr>\n",
              "      <th>4</th>\n",
              "      <td>is the man smiling</td>\n",
              "      <td>1.0</td>\n",
              "      <td>COCO_train2014_000000393224.jpg</td>\n",
              "    </tr>\n",
              "  </tbody>\n",
              "</table>\n",
              "</div>"
            ],
            "text/plain": [
              "                                Q    A                             name\n",
              "0                 is the sky blue  0.0  COCO_train2014_000000393221.jpg\n",
              "1  is there snow on the mountains  0.0  COCO_train2014_000000393221.jpg\n",
              "2              is the window open  0.0  COCO_train2014_000000393223.jpg\n",
              "3                 is she brushing  0.0  COCO_train2014_000000393223.jpg\n",
              "4              is the man smiling  1.0  COCO_train2014_000000393224.jpg"
            ]
          },
          "metadata": {
            "tags": []
          },
          "execution_count": 24
        }
      ]
    },
    {
      "cell_type": "markdown",
      "metadata": {
        "id": "w_pGuZWXx4vE",
        "colab_type": "text"
      },
      "source": [
        "### Convert image names to absolute paths\n",
        "\n",
        "Next, for convenience, it may be helpful to update the images column in the starter CSV from filenames ```COCO_train2014_000000320111.jpg``` to absolute paths ```/content/images/COCO_train2014_000000320111.jpg```. This will save you some code down the road when it comes time to open them up (you won't need to worry about the relationship between where the starter CSV file is stored, and your images folder)."
      ]
    },
    {
      "cell_type": "code",
      "metadata": {
        "id": "_9lbPJyvxv6O",
        "colab_type": "code",
        "colab": {}
      },
      "source": [
        "# Your code here\n",
        "# Convert the image filenames in the starter CSV to absolute paths\n",
        "# You do not need to update the CSV itself. If you have a data structure\n",
        "# in memory, you can work with that instead.\n",
        "st['name']='/content/thumbnails/' + st['name']"
      ],
      "execution_count": 0,
      "outputs": []
    },
    {
      "cell_type": "code",
      "metadata": {
        "id": "5udaYjU64YW_",
        "colab_type": "code",
        "colab": {
          "base_uri": "https://localhost:8080/",
          "height": 202
        },
        "outputId": "fcebc16a-bce1-46f9-e3f0-2ade8844a4a2"
      },
      "source": [
        "st.head(5)"
      ],
      "execution_count": 26,
      "outputs": [
        {
          "output_type": "execute_result",
          "data": {
            "text/html": [
              "<div>\n",
              "<style scoped>\n",
              "    .dataframe tbody tr th:only-of-type {\n",
              "        vertical-align: middle;\n",
              "    }\n",
              "\n",
              "    .dataframe tbody tr th {\n",
              "        vertical-align: top;\n",
              "    }\n",
              "\n",
              "    .dataframe thead th {\n",
              "        text-align: right;\n",
              "    }\n",
              "</style>\n",
              "<table border=\"1\" class=\"dataframe\">\n",
              "  <thead>\n",
              "    <tr style=\"text-align: right;\">\n",
              "      <th></th>\n",
              "      <th>Q</th>\n",
              "      <th>A</th>\n",
              "      <th>name</th>\n",
              "    </tr>\n",
              "  </thead>\n",
              "  <tbody>\n",
              "    <tr>\n",
              "      <th>0</th>\n",
              "      <td>is the sky blue</td>\n",
              "      <td>0.0</td>\n",
              "      <td>/content/thumbnails/COCO_train2014_00000039322...</td>\n",
              "    </tr>\n",
              "    <tr>\n",
              "      <th>1</th>\n",
              "      <td>is there snow on the mountains</td>\n",
              "      <td>0.0</td>\n",
              "      <td>/content/thumbnails/COCO_train2014_00000039322...</td>\n",
              "    </tr>\n",
              "    <tr>\n",
              "      <th>2</th>\n",
              "      <td>is the window open</td>\n",
              "      <td>0.0</td>\n",
              "      <td>/content/thumbnails/COCO_train2014_00000039322...</td>\n",
              "    </tr>\n",
              "    <tr>\n",
              "      <th>3</th>\n",
              "      <td>is she brushing</td>\n",
              "      <td>0.0</td>\n",
              "      <td>/content/thumbnails/COCO_train2014_00000039322...</td>\n",
              "    </tr>\n",
              "    <tr>\n",
              "      <th>4</th>\n",
              "      <td>is the man smiling</td>\n",
              "      <td>1.0</td>\n",
              "      <td>/content/thumbnails/COCO_train2014_00000039322...</td>\n",
              "    </tr>\n",
              "  </tbody>\n",
              "</table>\n",
              "</div>"
            ],
            "text/plain": [
              "                                Q  ...                                               name\n",
              "0                 is the sky blue  ...  /content/thumbnails/COCO_train2014_00000039322...\n",
              "1  is there snow on the mountains  ...  /content/thumbnails/COCO_train2014_00000039322...\n",
              "2              is the window open  ...  /content/thumbnails/COCO_train2014_00000039322...\n",
              "3                 is she brushing  ...  /content/thumbnails/COCO_train2014_00000039322...\n",
              "4              is the man smiling  ...  /content/thumbnails/COCO_train2014_00000039322...\n",
              "\n",
              "[5 rows x 3 columns]"
            ]
          },
          "metadata": {
            "tags": []
          },
          "execution_count": 26
        }
      ]
    },
    {
      "cell_type": "markdown",
      "metadata": {
        "id": "wqWvyk_54MEB",
        "colab_type": "text"
      },
      "source": [
        "### Shuffle and create a test set\n",
        "For this assignment, you do not need to download the COCO validation or test sets. Instead, shuffle your starter CSV, and use some of the rows as a test set (say, 4,000 rows). Move them to a separate CSV or data structure, and revisit them later. I realize some of the same images may appear in the train and test set (although with different questions). For this assignment, that's okay. If you prefer, you can write code to ensure the test set has unique images that do not appear in the train set."
      ]
    },
    {
      "cell_type": "code",
      "metadata": {
        "id": "fQHh_2dxAk5g",
        "colab_type": "code",
        "colab": {}
      },
      "source": [
        "from sklearn.utils import shuffle"
      ],
      "execution_count": 0,
      "outputs": []
    },
    {
      "cell_type": "code",
      "metadata": {
        "id": "rUeKcg8H4OH2",
        "colab_type": "code",
        "colab": {}
      },
      "source": [
        "# Your code here\n",
        "# Shuffle the starter CSV\n",
        "# Remove 4,000 rows (or so) and move them to a separate file or data structure\n",
        "st = shuffle(st)\n",
        "st.reset_index(inplace=True, drop=True) \n",
        "test = st.iloc[:4000,]\n",
        "train = st.iloc[4000:,]\n",
        "    "
      ],
      "execution_count": 0,
      "outputs": []
    },
    {
      "cell_type": "code",
      "metadata": {
        "id": "XOSj9EHRBX_6",
        "colab_type": "code",
        "colab": {
          "base_uri": "https://localhost:8080/",
          "height": 202
        },
        "outputId": "d1b4b4e5-46a1-4416-8a2a-eeed5f4ff25b"
      },
      "source": [
        "test.head(5)"
      ],
      "execution_count": 33,
      "outputs": [
        {
          "output_type": "execute_result",
          "data": {
            "text/html": [
              "<div>\n",
              "<style scoped>\n",
              "    .dataframe tbody tr th:only-of-type {\n",
              "        vertical-align: middle;\n",
              "    }\n",
              "\n",
              "    .dataframe tbody tr th {\n",
              "        vertical-align: top;\n",
              "    }\n",
              "\n",
              "    .dataframe thead th {\n",
              "        text-align: right;\n",
              "    }\n",
              "</style>\n",
              "<table border=\"1\" class=\"dataframe\">\n",
              "  <thead>\n",
              "    <tr style=\"text-align: right;\">\n",
              "      <th></th>\n",
              "      <th>Q</th>\n",
              "      <th>A</th>\n",
              "      <th>name</th>\n",
              "    </tr>\n",
              "  </thead>\n",
              "  <tbody>\n",
              "    <tr>\n",
              "      <th>0</th>\n",
              "      <td>is the boat and skier alone on the water</td>\n",
              "      <td>1.0</td>\n",
              "      <td>/content/thumbnails/COCO_train2014_00000025924...</td>\n",
              "    </tr>\n",
              "    <tr>\n",
              "      <th>1</th>\n",
              "      <td>does the food have a bite taken out of it</td>\n",
              "      <td>1.0</td>\n",
              "      <td>/content/thumbnails/COCO_train2014_00000048724...</td>\n",
              "    </tr>\n",
              "    <tr>\n",
              "      <th>2</th>\n",
              "      <td>is there diet pepsi in the refrigerator</td>\n",
              "      <td>1.0</td>\n",
              "      <td>/content/thumbnails/COCO_train2014_00000055720...</td>\n",
              "    </tr>\n",
              "    <tr>\n",
              "      <th>3</th>\n",
              "      <td>is the cat fat</td>\n",
              "      <td>1.0</td>\n",
              "      <td>/content/thumbnails/COCO_train2014_00000017201...</td>\n",
              "    </tr>\n",
              "    <tr>\n",
              "      <th>4</th>\n",
              "      <td>is the vehicle in the left corner an ambulance</td>\n",
              "      <td>0.0</td>\n",
              "      <td>/content/thumbnails/COCO_train2014_00000050777...</td>\n",
              "    </tr>\n",
              "  </tbody>\n",
              "</table>\n",
              "</div>"
            ],
            "text/plain": [
              "                                                Q  ...                                               name\n",
              "0        is the boat and skier alone on the water  ...  /content/thumbnails/COCO_train2014_00000025924...\n",
              "1       does the food have a bite taken out of it  ...  /content/thumbnails/COCO_train2014_00000048724...\n",
              "2         is there diet pepsi in the refrigerator  ...  /content/thumbnails/COCO_train2014_00000055720...\n",
              "3                                  is the cat fat  ...  /content/thumbnails/COCO_train2014_00000017201...\n",
              "4  is the vehicle in the left corner an ambulance  ...  /content/thumbnails/COCO_train2014_00000050777...\n",
              "\n",
              "[5 rows x 3 columns]"
            ]
          },
          "metadata": {
            "tags": []
          },
          "execution_count": 33
        }
      ]
    },
    {
      "cell_type": "markdown",
      "metadata": {
        "id": "QRCqCG4eNWzX",
        "colab_type": "text"
      },
      "source": [
        "### Limit the size of the dataset, and balance.\n",
        "\n",
        "The dataset is fairly large. Let's simplify and start small. Instead of working with +/-100,000 questions - a better number would be about 20,000 questions.\n",
        "\n",
        "As a suggestion, you may also want to balance the data (so you have an equal number of positive and negative questions), just to make it a bit easier to debug your model and verify it's training as expected."
      ]
    },
    {
      "cell_type": "code",
      "metadata": {
        "id": "wcH6-VCnwmSK",
        "colab_type": "code",
        "colab": {
          "base_uri": "https://localhost:8080/",
          "height": 35
        },
        "outputId": "531b34c7-e673-4fda-d04a-4ff694802b48"
      },
      "source": [
        "# Your code here\n",
        "# Limit the size of the starter CSV to 20,000 rows\n",
        "# Balance the data (so you have an equal number of \"yes\" and \"no\" answers) \n",
        "# in your 20,000 rows\n",
        "yes_s = train[train.A==0.0][:10000]\n",
        "no_s = train[train.A==1.0][:10000]\n",
        "st_small = yes_s.append(no_s)\n",
        "\n",
        "st_small.reset_index(inplace=True, drop=True)\n",
        "len(st_small)"
      ],
      "execution_count": 34,
      "outputs": [
        {
          "output_type": "execute_result",
          "data": {
            "text/plain": [
              "20000"
            ]
          },
          "metadata": {
            "tags": []
          },
          "execution_count": 34
        }
      ]
    },
    {
      "cell_type": "code",
      "metadata": {
        "id": "qGbLw1uCDQxB",
        "colab_type": "code",
        "colab": {
          "base_uri": "https://localhost:8080/",
          "height": 202
        },
        "outputId": "9ed19ccb-027e-4ff0-bced-362e4a8afd79"
      },
      "source": [
        "st_small.head(5)"
      ],
      "execution_count": 35,
      "outputs": [
        {
          "output_type": "execute_result",
          "data": {
            "text/html": [
              "<div>\n",
              "<style scoped>\n",
              "    .dataframe tbody tr th:only-of-type {\n",
              "        vertical-align: middle;\n",
              "    }\n",
              "\n",
              "    .dataframe tbody tr th {\n",
              "        vertical-align: top;\n",
              "    }\n",
              "\n",
              "    .dataframe thead th {\n",
              "        text-align: right;\n",
              "    }\n",
              "</style>\n",
              "<table border=\"1\" class=\"dataframe\">\n",
              "  <thead>\n",
              "    <tr style=\"text-align: right;\">\n",
              "      <th></th>\n",
              "      <th>Q</th>\n",
              "      <th>A</th>\n",
              "      <th>name</th>\n",
              "    </tr>\n",
              "  </thead>\n",
              "  <tbody>\n",
              "    <tr>\n",
              "      <th>0</th>\n",
              "      <td>are elephants known for being smart</td>\n",
              "      <td>0.0</td>\n",
              "      <td>/content/thumbnails/COCO_train2014_00000019557...</td>\n",
              "    </tr>\n",
              "    <tr>\n",
              "      <th>1</th>\n",
              "      <td>is this man skiing</td>\n",
              "      <td>0.0</td>\n",
              "      <td>/content/thumbnails/COCO_train2014_00000035511...</td>\n",
              "    </tr>\n",
              "    <tr>\n",
              "      <th>2</th>\n",
              "      <td>are the flowers real</td>\n",
              "      <td>0.0</td>\n",
              "      <td>/content/thumbnails/COCO_train2014_00000017641...</td>\n",
              "    </tr>\n",
              "    <tr>\n",
              "      <th>3</th>\n",
              "      <td>are giraffes the only animals in the photo</td>\n",
              "      <td>0.0</td>\n",
              "      <td>/content/thumbnails/COCO_train2014_00000003060...</td>\n",
              "    </tr>\n",
              "    <tr>\n",
              "      <th>4</th>\n",
              "      <td>is she wearing a tshirt</td>\n",
              "      <td>0.0</td>\n",
              "      <td>/content/thumbnails/COCO_train2014_00000020448...</td>\n",
              "    </tr>\n",
              "  </tbody>\n",
              "</table>\n",
              "</div>"
            ],
            "text/plain": [
              "                                            Q  ...                                               name\n",
              "0         are elephants known for being smart  ...  /content/thumbnails/COCO_train2014_00000019557...\n",
              "1                          is this man skiing  ...  /content/thumbnails/COCO_train2014_00000035511...\n",
              "2                        are the flowers real  ...  /content/thumbnails/COCO_train2014_00000017641...\n",
              "3  are giraffes the only animals in the photo  ...  /content/thumbnails/COCO_train2014_00000003060...\n",
              "4                     is she wearing a tshirt  ...  /content/thumbnails/COCO_train2014_00000020448...\n",
              "\n",
              "[5 rows x 3 columns]"
            ]
          },
          "metadata": {
            "tags": []
          },
          "execution_count": 35
        }
      ]
    },
    {
      "cell_type": "markdown",
      "metadata": {
        "id": "fmSXbHqrfdFJ",
        "colab_type": "text"
      },
      "source": [
        "### Create training and validation sets\n",
        "You may want to do an 80:20 split on your balanced training set, giving you 16,000 training rows, and 4,000 validation rows."
      ]
    },
    {
      "cell_type": "code",
      "metadata": {
        "id": "cMto3Q1rxcQ4",
        "colab_type": "code",
        "colab": {}
      },
      "source": [
        "# Your code here\n",
        "# The scikit-learn utilities (train_test_split) are your friend\n",
        "train_s, validation_s = train_test_split(st_small, test_size = 0.2)"
      ],
      "execution_count": 0,
      "outputs": []
    },
    {
      "cell_type": "markdown",
      "metadata": {
        "id": "Od0Q5SzEzd8C",
        "colab_type": "text"
      },
      "source": [
        "### Verify your train and validation sets look as expected\n",
        "You cannot spend too much time exploring the data. When I'm developing code for something like this on my own, I often run methods to verify that these splits have the number of rows I expect, to display a few images from each, and to see stats on the class balance. I also write code to verify the splits contain *only* yes/no answers. You may be tired of coding defensively at this point, but I assure you (especially when working with new and increasingly complicated datasets, this effort **always** pays off)."
      ]
    },
    {
      "cell_type": "code",
      "metadata": {
        "id": "0rXdrUZQz5f4",
        "colab_type": "code",
        "colab": {
          "base_uri": "https://localhost:8080/",
          "height": 35
        },
        "outputId": "7df43fb5-288f-4d65-f5fa-233b405da9d3"
      },
      "source": [
        "# number of rows\n",
        "len(train_s)"
      ],
      "execution_count": 37,
      "outputs": [
        {
          "output_type": "execute_result",
          "data": {
            "text/plain": [
              "16000"
            ]
          },
          "metadata": {
            "tags": []
          },
          "execution_count": 37
        }
      ]
    },
    {
      "cell_type": "code",
      "metadata": {
        "id": "vvVbzX53ERQC",
        "colab_type": "code",
        "colab": {
          "base_uri": "https://localhost:8080/",
          "height": 35
        },
        "outputId": "db9f041e-46e4-427a-eb8b-e46a52c50c0e"
      },
      "source": [
        "len(validation_s)"
      ],
      "execution_count": 38,
      "outputs": [
        {
          "output_type": "execute_result",
          "data": {
            "text/plain": [
              "4000"
            ]
          },
          "metadata": {
            "tags": []
          },
          "execution_count": 38
        }
      ]
    },
    {
      "cell_type": "code",
      "metadata": {
        "id": "4TYanOj5ET-Y",
        "colab_type": "code",
        "colab": {
          "base_uri": "https://localhost:8080/",
          "height": 393
        },
        "outputId": "ae8402bd-75c8-414a-8f7e-a165a433121e"
      },
      "source": [
        "##display images for each\n",
        "names = train_s.name.unique()\n",
        "\n",
        "img = plt.imread(names[8])\n",
        "plt.imshow(img)\n",
        "\n",
        "train_s[train_s.name==names[8]]"
      ],
      "execution_count": 39,
      "outputs": [
        {
          "output_type": "execute_result",
          "data": {
            "text/html": [
              "<div>\n",
              "<style scoped>\n",
              "    .dataframe tbody tr th:only-of-type {\n",
              "        vertical-align: middle;\n",
              "    }\n",
              "\n",
              "    .dataframe tbody tr th {\n",
              "        vertical-align: top;\n",
              "    }\n",
              "\n",
              "    .dataframe thead th {\n",
              "        text-align: right;\n",
              "    }\n",
              "</style>\n",
              "<table border=\"1\" class=\"dataframe\">\n",
              "  <thead>\n",
              "    <tr style=\"text-align: right;\">\n",
              "      <th></th>\n",
              "      <th>Q</th>\n",
              "      <th>A</th>\n",
              "      <th>name</th>\n",
              "    </tr>\n",
              "  </thead>\n",
              "  <tbody>\n",
              "    <tr>\n",
              "      <th>12657</th>\n",
              "      <td>is this bathroom clean</td>\n",
              "      <td>1.0</td>\n",
              "      <td>/content/thumbnails/COCO_train2014_00000022977...</td>\n",
              "    </tr>\n",
              "    <tr>\n",
              "      <th>16949</th>\n",
              "      <td>is the bathroom organized</td>\n",
              "      <td>1.0</td>\n",
              "      <td>/content/thumbnails/COCO_train2014_00000022977...</td>\n",
              "    </tr>\n",
              "    <tr>\n",
              "      <th>1023</th>\n",
              "      <td>does it look like someone has been showering</td>\n",
              "      <td>0.0</td>\n",
              "      <td>/content/thumbnails/COCO_train2014_00000022977...</td>\n",
              "    </tr>\n",
              "  </tbody>\n",
              "</table>\n",
              "</div>"
            ],
            "text/plain": [
              "                                                  Q  ...                                               name\n",
              "12657                        is this bathroom clean  ...  /content/thumbnails/COCO_train2014_00000022977...\n",
              "16949                     is the bathroom organized  ...  /content/thumbnails/COCO_train2014_00000022977...\n",
              "1023   does it look like someone has been showering  ...  /content/thumbnails/COCO_train2014_00000022977...\n",
              "\n",
              "[3 rows x 3 columns]"
            ]
          },
          "metadata": {
            "tags": []
          },
          "execution_count": 39
        },
        {
          "output_type": "display_data",
          "data": {
            "image/png": "[encoded data removed]",
            "text/plain": [
              "<Figure size 432x288 with 1 Axes>"
            ]
          },
          "metadata": {
            "tags": []
          }
        }
      ]
    },
    {
      "cell_type": "code",
      "metadata": {
        "id": "c_-ui24DE4S7",
        "colab_type": "code",
        "colab": {
          "base_uri": "https://localhost:8080/",
          "height": 331
        },
        "outputId": "c8f080d9-0685-4786-8216-5bf74acebb31"
      },
      "source": [
        "names = validation_s.name.unique()\n",
        "\n",
        "img = plt.imread(names[8])\n",
        "plt.imshow(img)\n",
        "\n",
        "validation_s[validation_s.name==names[8]]"
      ],
      "execution_count": 40,
      "outputs": [
        {
          "output_type": "execute_result",
          "data": {
            "text/html": [
              "<div>\n",
              "<style scoped>\n",
              "    .dataframe tbody tr th:only-of-type {\n",
              "        vertical-align: middle;\n",
              "    }\n",
              "\n",
              "    .dataframe tbody tr th {\n",
              "        vertical-align: top;\n",
              "    }\n",
              "\n",
              "    .dataframe thead th {\n",
              "        text-align: right;\n",
              "    }\n",
              "</style>\n",
              "<table border=\"1\" class=\"dataframe\">\n",
              "  <thead>\n",
              "    <tr style=\"text-align: right;\">\n",
              "      <th></th>\n",
              "      <th>Q</th>\n",
              "      <th>A</th>\n",
              "      <th>name</th>\n",
              "    </tr>\n",
              "  </thead>\n",
              "  <tbody>\n",
              "    <tr>\n",
              "      <th>2078</th>\n",
              "      <td>is he tying his tie</td>\n",
              "      <td>0.0</td>\n",
              "      <td>/content/thumbnails/COCO_train2014_00000045788...</td>\n",
              "    </tr>\n",
              "  </tbody>\n",
              "</table>\n",
              "</div>"
            ],
            "text/plain": [
              "                        Q  ...                                               name\n",
              "2078  is he tying his tie  ...  /content/thumbnails/COCO_train2014_00000045788...\n",
              "\n",
              "[1 rows x 3 columns]"
            ]
          },
          "metadata": {
            "tags": []
          },
          "execution_count": 40
        },
        {
          "output_type": "display_data",
          "data": {
            "image/png": "[encoded data removed]",
            "text/plain": [
              "<Figure size 432x288 with 1 Axes>"
            ]
          },
          "metadata": {
            "tags": []
          }
        }
      ]
    },
    {
      "cell_type": "code",
      "metadata": {
        "id": "k4XwVrPJFJh7",
        "colab_type": "code",
        "colab": {
          "base_uri": "https://localhost:8080/",
          "height": 141
        },
        "outputId": "7ba58af7-8c7b-43b0-cd56-f1f729dcaf3c"
      },
      "source": [
        "#see stats on the class balance.\n",
        "train_s.groupby('A').count()"
      ],
      "execution_count": 42,
      "outputs": [
        {
          "output_type": "execute_result",
          "data": {
            "text/html": [
              "<div>\n",
              "<style scoped>\n",
              "    .dataframe tbody tr th:only-of-type {\n",
              "        vertical-align: middle;\n",
              "    }\n",
              "\n",
              "    .dataframe tbody tr th {\n",
              "        vertical-align: top;\n",
              "    }\n",
              "\n",
              "    .dataframe thead th {\n",
              "        text-align: right;\n",
              "    }\n",
              "</style>\n",
              "<table border=\"1\" class=\"dataframe\">\n",
              "  <thead>\n",
              "    <tr style=\"text-align: right;\">\n",
              "      <th></th>\n",
              "      <th>Q</th>\n",
              "      <th>name</th>\n",
              "    </tr>\n",
              "    <tr>\n",
              "      <th>A</th>\n",
              "      <th></th>\n",
              "      <th></th>\n",
              "    </tr>\n",
              "  </thead>\n",
              "  <tbody>\n",
              "    <tr>\n",
              "      <th>0.0</th>\n",
              "      <td>7954</td>\n",
              "      <td>7954</td>\n",
              "    </tr>\n",
              "    <tr>\n",
              "      <th>1.0</th>\n",
              "      <td>8046</td>\n",
              "      <td>8046</td>\n",
              "    </tr>\n",
              "  </tbody>\n",
              "</table>\n",
              "</div>"
            ],
            "text/plain": [
              "        Q  name\n",
              "A              \n",
              "0.0  7954  7954\n",
              "1.0  8046  8046"
            ]
          },
          "metadata": {
            "tags": []
          },
          "execution_count": 42
        }
      ]
    },
    {
      "cell_type": "code",
      "metadata": {
        "id": "y7WDLWlWGtvo",
        "colab_type": "code",
        "colab": {
          "base_uri": "https://localhost:8080/",
          "height": 141
        },
        "outputId": "d125f870-6d21-4c47-ead3-ca09a1312a82"
      },
      "source": [
        "validation_s.groupby('A').count()"
      ],
      "execution_count": 43,
      "outputs": [
        {
          "output_type": "execute_result",
          "data": {
            "text/html": [
              "<div>\n",
              "<style scoped>\n",
              "    .dataframe tbody tr th:only-of-type {\n",
              "        vertical-align: middle;\n",
              "    }\n",
              "\n",
              "    .dataframe tbody tr th {\n",
              "        vertical-align: top;\n",
              "    }\n",
              "\n",
              "    .dataframe thead th {\n",
              "        text-align: right;\n",
              "    }\n",
              "</style>\n",
              "<table border=\"1\" class=\"dataframe\">\n",
              "  <thead>\n",
              "    <tr style=\"text-align: right;\">\n",
              "      <th></th>\n",
              "      <th>Q</th>\n",
              "      <th>name</th>\n",
              "    </tr>\n",
              "    <tr>\n",
              "      <th>A</th>\n",
              "      <th></th>\n",
              "      <th></th>\n",
              "    </tr>\n",
              "  </thead>\n",
              "  <tbody>\n",
              "    <tr>\n",
              "      <th>0.0</th>\n",
              "      <td>2046</td>\n",
              "      <td>2046</td>\n",
              "    </tr>\n",
              "    <tr>\n",
              "      <th>1.0</th>\n",
              "      <td>1954</td>\n",
              "      <td>1954</td>\n",
              "    </tr>\n",
              "  </tbody>\n",
              "</table>\n",
              "</div>"
            ],
            "text/plain": [
              "        Q  name\n",
              "A              \n",
              "0.0  2046  2046\n",
              "1.0  1954  1954"
            ]
          },
          "metadata": {
            "tags": []
          },
          "execution_count": 43
        }
      ]
    },
    {
      "cell_type": "markdown",
      "metadata": {
        "id": "HpLrvN2QGzsi",
        "colab_type": "text"
      },
      "source": [
        "We can see that the number of each yes and no category is almost balanced. And there is no other answer in A."
      ]
    },
    {
      "cell_type": "markdown",
      "metadata": {
        "id": "8ITEBFcQRqdm",
        "colab_type": "text"
      },
      "source": [
        "\n",
        "### Forward your images through InceptionV3, and cache activations to disk\n",
        "\n",
        "Rather than training a CNN from scratch for your VQA model, you'll begin by using activations from a pretrained model.  \n",
        "\n",
        "* Instead of forward each image repeatedly through the model while training (which will be slow), let's do that once and save the activations to disk. \n",
        "\n",
        "* We're saving them to disk (rather than keeping them in memory) to accomodate different sizes of datasets down the road.\n",
        "\n",
        "I've written a good deal of this code for you, but you should go through it and carefully understand how it works."
      ]
    },
    {
      "cell_type": "code",
      "metadata": {
        "id": "hbMdRBX8TY5X",
        "colab_type": "code",
        "colab": {
          "base_uri": "https://localhost:8080/",
          "height": 52
        },
        "outputId": "bd46e0fa-647c-4b8e-d0d4-fd1a6aef7cfe"
      },
      "source": [
        "# Create a feature extraction model.\n",
        "# You should not need to modify this (though you may, if you'd like\n",
        "# to use a model other than Inception).\n",
        "image_model = tf.keras.applications.InceptionV3(include_top=False,\n",
        "                                                weights='imagenet')\n",
        "new_input = image_model.input\n",
        "hidden_layer = image_model.layers[-1].output\n",
        "image_features_extract_model = tf.keras.Model(new_input, hidden_layer)"
      ],
      "execution_count": 44,
      "outputs": [
        {
          "output_type": "stream",
          "text": [
            "Downloading data from https://github.com/fchollet/deep-learning-models/releases/download/v0.5/inception_v3_weights_tf_dim_ordering_tf_kernels_notop.h5\n",
            "87916544/87910968 [==============================] - 1s 0us/step\n"
          ],
          "name": "stdout"
        }
      ]
    },
    {
      "cell_type": "code",
      "metadata": {
        "id": "QW0drXDAQu3c",
        "colab_type": "code",
        "colab": {}
      },
      "source": [
        "# A method to load an image off disk, and extract activations using \n",
        "# the model above. You should not need to modify this.\n",
        "def image_to_activations(image_path):\n",
        "  img = tf.io.read_file(image_path)\n",
        "  img = tf.image.decode_jpeg(img, channels=3)\n",
        "  img = tf.image.resize(img, (299, 299))\n",
        "  activations = tf.keras.applications.inception_v3.preprocess_input(img)\n",
        "  return activations, image_path"
      ],
      "execution_count": 0,
      "outputs": []
    },
    {
      "cell_type": "code",
      "metadata": {
        "id": "V2_1Ili7y3Fj",
        "colab_type": "code",
        "colab": {
          "base_uri": "https://localhost:8080/",
          "height": 52
        },
        "outputId": "88e5a8be-6dc9-410e-c2fd-cc22b839bfd8"
      },
      "source": [
        "# Your code here\n",
        "\n",
        "# You'll need to extract activations for every image in your train, validation,\n",
        "# and test set. First, create a set of the absolute paths to all of these images \n",
        "# (image_path_set). Populate this with the absolute paths to all these images.\n",
        "image_path_set = set(train_s['name']) | set(validation_s['name']) | set(test['name']) \n",
        "\n",
        "\n",
        "print(\"Images to preprocess\", len(image_path_set))\n",
        "print(\"This make take a few minutes\")"
      ],
      "execution_count": 46,
      "outputs": [
        {
          "output_type": "stream",
          "text": [
            "Images to preprocess 18030\n",
            "This make take a few minutes\n"
          ],
          "name": "stdout"
        }
      ]
    },
    {
      "cell_type": "code",
      "metadata": {
        "id": "hb9XjL8QWzuZ",
        "colab_type": "code",
        "colab": {}
      },
      "source": [
        "# This cell will extract activations for each image and save them to disk \n",
        "# in NumPy format. You should not need to modify this.\n",
        "\n",
        "# Note: we're not saving these activations to the cloud,\n",
        "# but you certainly could if you wanted to skip this step \n",
        "# in the future. If you look into doing that, it's best to save one large\n",
        "# zip with the activations, and download that and extract it locally\n",
        "# (rather than doing a bunch of network access to retrieve individual files),\n",
        "# especially when training your model.\n",
        "\n",
        "# Create a dataset to load each image off disk, and extract activations\n",
        "activation_dataset = tf.data.Dataset.from_tensor_slices(list(image_path_set))\n",
        "activation_dataset = activation_dataset.map(\n",
        "  image_to_activations, \n",
        "  num_parallel_calls=tf.data.experimental.AUTOTUNE).batch(32)\n",
        "\n",
        "# Save all activations to disk in NumPy format\n",
        "for img_batch, path_batch in activation_dataset:\n",
        "  batch_features = image_features_extract_model(img_batch)\n",
        "  for bf, p in zip(batch_features, path_batch):\n",
        "    path_of_feature = p.numpy().decode(\"utf-8\")\n",
        "    np.save(path_of_feature, bf.numpy())  "
      ],
      "execution_count": 0,
      "outputs": []
    },
    {
      "cell_type": "markdown",
      "metadata": {
        "id": "5-Rb4DsORTui",
        "colab_type": "text"
      },
      "source": [
        "### Create lists of questions, answers, and images for your train, validation, and test set\n",
        "\n",
        "At this point, you may be reading your starter CSV directly from disk, or you may have your own data structure in memory. Since many of the methods we'll call from this point forward take lists as input, you may find it helpful to create a data structure with three lists, that correspond to the columns from your starter CSV."
      ]
    },
    {
      "cell_type": "code",
      "metadata": {
        "id": "VoIgQUwkR3PD",
        "colab_type": "code",
        "colab": {}
      },
      "source": [
        "# Your code here. Populate these for your training set.\n",
        "# questions_train = [] # a list of absolute paths to images in your training set\n",
        "# answers_train = [] # a list of questions in your training set\n",
        "# images_train = [] # a list of answers (in numeric format) in your training set\n",
        "questions_train = train_s.Q # a list of absolute paths to images in your training set\n",
        "answers_train = train_s.A # a list of questions in your training set\n",
        "images_train = train_s.name # a list of answers (in numeric format) in your training set\n",
        "\n",
        "# The order of these lists should match (e.g. the question, answer, and image \n",
        "# from row i of your train split of the starter CSV should be \n",
        "# questions_train[i], answers_train[i], images_train[i])."
      ],
      "execution_count": 0,
      "outputs": []
    },
    {
      "cell_type": "code",
      "metadata": {
        "id": "bLtOogc3R3bW",
        "colab_type": "code",
        "colab": {}
      },
      "source": [
        "# Your code here. Populate these for your validation set.\n",
        "questions_val = validation_s.Q\n",
        "answers_val = validation_s.A\n",
        "images_val = validation_s.name"
      ],
      "execution_count": 0,
      "outputs": []
    },
    {
      "cell_type": "code",
      "metadata": {
        "id": "arUBA1CcR3lS",
        "colab_type": "code",
        "colab": {}
      },
      "source": [
        "# Your code here. Populate these for your test set\n",
        "questions_test = test.Q\n",
        "answers_test = test.A\n",
        "images_test = test.name"
      ],
      "execution_count": 0,
      "outputs": []
    },
    {
      "cell_type": "markdown",
      "metadata": {
        "id": "nTkz5C9eb1Ic",
        "colab_type": "text"
      },
      "source": [
        "### Create and fit a tokenizer\n",
        "\n",
        "Your model will use a LSTM to process the questions. First, you'll need to vectorize your text. Tokenize the questions, and limit the vocabulary size to a reasonable size (for example, the top 3,000 words). A larger size will make a higher accuracy possible, but complicate and slow your model. Reminder: fit the tokenizer only on the training questions."
      ]
    },
    {
      "cell_type": "code",
      "metadata": {
        "id": "DYElFeEKxE3e",
        "colab_type": "code",
        "colab": {}
      },
      "source": [
        "# Your code here\n",
        "VOCAB_SIZE = 3000"
      ],
      "execution_count": 0,
      "outputs": []
    },
    {
      "cell_type": "code",
      "metadata": {
        "id": "u4myZY6zxDwJ",
        "colab_type": "code",
        "colab": {
          "base_uri": "https://localhost:8080/",
          "height": 35
        },
        "outputId": "225ab9b9-f973-4797-cf16-15079211d1bb"
      },
      "source": [
        "# You should not need to modify this code\n",
        "tokenizer = tf.keras.preprocessing.text.Tokenizer(num_words=VOCAB_SIZE)\n",
        "tokenizer.fit_on_texts(questions_train)\n",
        "\n",
        "# Note, the tokenizer's word_index will not respect VOCAB_SIZE.\n",
        "# but, that parameter will be respected in later methods,\n",
        "# (for example, when you call text_to_sequences).\n",
        "# Also note that '0' is a reserved index for padding.\n",
        "print(\"Word index\", len(tokenizer.word_index))"
      ],
      "execution_count": 53,
      "outputs": [
        {
          "output_type": "stream",
          "text": [
            "Word index 4741\n"
          ],
          "name": "stdout"
        }
      ]
    },
    {
      "cell_type": "markdown",
      "metadata": {
        "id": "4Gvj1ZE-fTrP",
        "colab_type": "text"
      },
      "source": [
        "### Vectorize the questions\n",
        "In this section, you will use your tokenizer to vectorize the questions using ```texts_to_sequences```. For an example of texts_to_sequences, see this [notebook](https://github.com/fchollet/deep-learning-with-python-notebooks/blob/master/6.1-one-hot-encoding-of-words-or-characters.ipynb).\n"
      ]
    },
    {
      "cell_type": "code",
      "metadata": {
        "id": "NhQu6yZhfi7K",
        "colab_type": "code",
        "colab": {}
      },
      "source": [
        "# Your code here\n",
        "# Use the texts_to_sequences utility to vectorize your training, \n",
        "# validation, and test questions. \n",
        "\n",
        "# To follow along with the starter code below, you should use\n",
        "# these naming conventions\n",
        "\n",
        "sequences_train = tokenizer.texts_to_sequences(questions_train)\n",
        "sequences_val = tokenizer.texts_to_sequences(questions_val)\n",
        "sequences_test = tokenizer.texts_to_sequences(questions_test)\n"
      ],
      "execution_count": 0,
      "outputs": []
    },
    {
      "cell_type": "markdown",
      "metadata": {
        "id": "iiDIdjpY6FHO",
        "colab_type": "text"
      },
      "source": [
        "### Pad sequences\n",
        "\n",
        "In this section, you will pad the vectorized questions using ```pad_sequences```. Your maximum sequence length is a design decision, just like vocab size. Advice, start with something short, so your model trains faster (maybe, between 10 and 20).\n",
        "\n",
        "For an example of pad_sequences, see this [notebook](https://github.com/fchollet/deep-learning-with-python-notebooks/blob/master/6.2-understanding-recurrent-neural-networks.ipynb)."
      ]
    },
    {
      "cell_type": "code",
      "metadata": {
        "id": "s7KqB0-t0vci",
        "colab_type": "code",
        "colab": {}
      },
      "source": [
        "# Your code here\n",
        "# To choose a reasonable sequence length, examine the length of all the \n",
        "# tokenized questions in the training set (in words).\n",
        "# Justify your choice, e.g. you should note that percentage of the \n",
        "# training questions that fall under that length (and will not be trimmed), \n",
        "# and the number of questions that will be."
      ],
      "execution_count": 0,
      "outputs": []
    },
    {
      "cell_type": "code",
      "metadata": {
        "id": "tqgmSiLzeY41",
        "colab_type": "code",
        "colab": {}
      },
      "source": [
        "# Your code here\n",
        "MAX_SEQ_LEN = 18"
      ],
      "execution_count": 0,
      "outputs": []
    },
    {
      "cell_type": "code",
      "metadata": {
        "id": "k66XWHrPdlKA",
        "colab_type": "code",
        "colab": {}
      },
      "source": [
        "# Your code here\n",
        "# Use the pad_sequences utility to pad your training, \n",
        "# validation, and test questions.\n",
        "\n",
        "# To follow along with the rest of the statter code, you can use these\n",
        "# naming conventions\n",
        "\n",
        "padded_train = tf.keras.preprocessing.sequence.pad_sequences(sequences_train, maxlen=MAX_SEQ_LEN)\n",
        "padded_val = tf.keras.preprocessing.sequence.pad_sequences(sequences_val, maxlen=MAX_SEQ_LEN)\n",
        "padded_test = tf.keras.preprocessing.sequence.pad_sequences(sequences_test, maxlen=MAX_SEQ_LEN)"
      ],
      "execution_count": 0,
      "outputs": []
    },
    {
      "cell_type": "markdown",
      "metadata": {
        "id": "DCKOXMDwTvtE",
        "colab_type": "text"
      },
      "source": [
        "### Sanity check\n",
        "You've just done a **bunch** of preprocessing. Optionally, now would be a good time to write a block of code to verify the tokenized and padded sequences are in the format you expect."
      ]
    },
    {
      "cell_type": "code",
      "metadata": {
        "id": "jp9Wwup-T3aj",
        "colab_type": "code",
        "colab": {
          "base_uri": "https://localhost:8080/",
          "height": 35
        },
        "outputId": "cb91d4a9-cff9-415a-9814-06f6f46cf579"
      },
      "source": [
        "# Your code here (optional).\n",
        "# Since you have a word_index from the tokenizer, you may \n",
        "# also want to write code to convert from a vectorized question\n",
        "# back to a string.\n",
        "\n",
        "print(padded_test.shape, \n",
        "      padded_train.shape, \n",
        "      padded_val.shape)"
      ],
      "execution_count": 59,
      "outputs": [
        {
          "output_type": "stream",
          "text": [
            "(4000, 18) (16000, 18) (4000, 18)\n"
          ],
          "name": "stdout"
        }
      ]
    },
    {
      "cell_type": "markdown",
      "metadata": {
        "id": "7wocaXqRkZa_",
        "colab_type": "text"
      },
      "source": [
        "### Create a tf.dataset for training, validation, and testing\n",
        "\n",
        "The method to create the dataset is provided for you, though you will need to get it working by passing the ```padded_train```, ```answers_train``` ```and images_train``` lists you created above.\n",
        "\n",
        "\n"
      ]
    },
    {
      "cell_type": "code",
      "metadata": {
        "id": "SK46QgJ7fsiO",
        "colab_type": "code",
        "colab": {}
      },
      "source": [
        "# You should not need to modify this.\n",
        "BATCH_SIZE = 32\n",
        "BUFFER_SIZE = 1000"
      ],
      "execution_count": 0,
      "outputs": []
    },
    {
      "cell_type": "code",
      "metadata": {
        "id": "_HoznUX469tT",
        "colab_type": "code",
        "colab": {}
      },
      "source": [
        "# You should not need to modify this.\n",
        "# Load cached activations off disk.\n",
        "def load_np(img_path, question, answer):\n",
        "  activations = np.load(img_path.decode('utf-8')+'.npy')\n",
        "  return activations, question, answer, img_path"
      ],
      "execution_count": 0,
      "outputs": []
    },
    {
      "cell_type": "code",
      "metadata": {
        "id": "SS1JpUNV65cE",
        "colab_type": "code",
        "colab": {}
      },
      "source": [
        "# You should not need to modify this.\n",
        "\n",
        "# This method will create a dataset that returns four elements.\n",
        "# - a batch of activations (loaded from disk)\n",
        "# - a batch of padded questions\n",
        "# - a batch of numeric answers\n",
        "# - a batch of absolute paths to the corresponding images\n",
        "def create_dataset(images, sequences, answers):\n",
        "  dataset = tf.data.Dataset.from_tensor_slices((images, \n",
        "                                                sequences, \n",
        "                                                answers))\n",
        "  # TODO jbgordon@: rewrite this to be clearer\n",
        "  # Load the cached activations off disk\n",
        "  dataset = dataset.map(lambda x, y, z: tf.numpy_function(\n",
        "      load_np, [x, y, z], [tf.float32, tf.int32, tf.float32, tf.string]),\n",
        "      num_parallel_calls=tf.data.experimental.AUTOTUNE)\n",
        "  \n",
        "  # Shuffle and batch\n",
        "  dataset = dataset.shuffle(BUFFER_SIZE).batch(BATCH_SIZE)\n",
        "  dataset = dataset.prefetch(buffer_size=tf.data.experimental.AUTOTUNE)\n",
        "  return dataset"
      ],
      "execution_count": 0,
      "outputs": []
    },
    {
      "cell_type": "code",
      "metadata": {
        "id": "XAr49L-1D0pW",
        "colab_type": "code",
        "colab": {}
      },
      "source": [
        "# Your code here\n",
        "\n",
        "# Call the above method to create train, val, and test datasets.\n",
        "# If you want to follow along with the starter code, I suggest these\n",
        "# variable names:\n",
        "\n",
        "train_ds = create_dataset(images_train, padded_train, answers_train)\n",
        "val_ds = create_dataset(images_train, padded_train, answers_train)\n",
        "test_ds = create_dataset(images_train, padded_train, answers_train)"
      ],
      "execution_count": 0,
      "outputs": []
    },
    {
      "cell_type": "markdown",
      "metadata": {
        "id": "AA3D5qNfVWSs",
        "colab_type": "text"
      },
      "source": [
        "### Sanity check (optional)\n",
        "That dataset creation method is complicated. Write a block of code that demonstrates how to use the dataset (e.g., retrieve a batch of activations, questions, answeres, and images paths) and verify they look as expected."
      ]
    },
    {
      "cell_type": "code",
      "metadata": {
        "id": "bS0KjlYM7UKV",
        "colab_type": "code",
        "colab": {
          "base_uri": "https://localhost:8080/",
          "height": 1000
        },
        "outputId": "f96dae1e-bdba-43d5-d17d-337d9e5732af"
      },
      "source": [
        "# Your code here (optional)\n",
        "# Verify your datasets are working properly\n",
        "\n",
        "# Here is code you can use to quickly retrieve a batch of data\n",
        "\n",
        "# my_iterator = iter(train_ds)\n",
        "# activations_batch, questions_batch, answers_batch, paths_batch = next(my_iterator)\n",
        "\n",
        "# print(activations_batch.shape, \n",
        "#       questions_batch.shape, \n",
        "#       answers_batch.shape, \n",
        "#       paths_batch.shape)\n",
        "\n",
        "# print(activations_batch, \n",
        "#       questions_batch, \n",
        "#       answers_batch, \n",
        "#       paths_batch)\n",
        "my_iterator = iter(train_ds)\n",
        "activations_batch, questions_batch, answers_batch, paths_batch = next(my_iterator)\n",
        "\n",
        "\n",
        "print(activations_batch.shape, \n",
        "       questions_batch.shape, \n",
        "       answers_batch.shape, \n",
        "       paths_batch.shape)\n",
        "\n",
        "print(activations_batch, \n",
        "       questions_batch, \n",
        "       answers_batch, \n",
        "       paths_batch)"
      ],
      "execution_count": 64,
      "outputs": [
        {
          "output_type": "stream",
          "text": [
            "(32, 8, 8, 2048) (32, 18) (32,) (32,)\n",
            "tf.Tensor(\n",
            "[[[[0.00000000e+00 0.00000000e+00 0.00000000e+00 ... 0.00000000e+00\n",
            "    7.58825839e-01 0.00000000e+00]\n",
            "   [0.00000000e+00 0.00000000e+00 0.00000000e+00 ... 0.00000000e+00\n",
            "    6.53875709e-01 0.00000000e+00]\n",
            "   [0.00000000e+00 0.00000000e+00 0.00000000e+00 ... 0.00000000e+00\n",
            "    7.20009267e-01 0.00000000e+00]\n",
            "   ...\n",
            "   [0.00000000e+00 0.00000000e+00 5.30290663e-01 ... 3.17588568e-01\n",
            "    2.52217829e-01 0.00000000e+00]\n",
            "   [3.34113687e-01 0.00000000e+00 5.14233112e-01 ... 1.39042318e-01\n",
            "    4.03540373e-01 4.79415059e-01]\n",
            "   [3.23169321e-01 0.00000000e+00 8.30313325e-01 ... 1.31997988e-01\n",
            "    5.92510462e-01 8.91769111e-01]]\n",
            "\n",
            "  [[0.00000000e+00 0.00000000e+00 0.00000000e+00 ... 0.00000000e+00\n",
            "    6.15753233e-01 0.00000000e+00]\n",
            "   [0.00000000e+00 0.00000000e+00 2.89802011e-02 ... 0.00000000e+00\n",
            "    5.62241912e-01 0.00000000e+00]\n",
            "   [0.00000000e+00 0.00000000e+00 6.09913422e-03 ... 0.00000000e+00\n",
            "    9.44544852e-01 0.00000000e+00]\n",
            "   ...\n",
            "   [0.00000000e+00 0.00000000e+00 3.16886663e-01 ... 6.76942110e-01\n",
            "    8.36091161e-01 0.00000000e+00]\n",
            "   [3.64535183e-01 0.00000000e+00 7.15355873e-02 ... 1.05530486e-01\n",
            "    5.27135015e-01 0.00000000e+00]\n",
            "   [8.21898580e-01 0.00000000e+00 5.85105598e-01 ... 0.00000000e+00\n",
            "    3.11957002e-01 1.16785668e-01]]\n",
            "\n",
            "  [[0.00000000e+00 0.00000000e+00 6.43912703e-02 ... 0.00000000e+00\n",
            "    5.66637754e-01 0.00000000e+00]\n",
            "   [0.00000000e+00 0.00000000e+00 5.19697256e-02 ... 0.00000000e+00\n",
            "    5.60835660e-01 0.00000000e+00]\n",
            "   [0.00000000e+00 0.00000000e+00 0.00000000e+00 ... 5.36673665e-02\n",
            "    1.04373932e+00 0.00000000e+00]\n",
            "   ...\n",
            "   [0.00000000e+00 0.00000000e+00 0.00000000e+00 ... 5.56395233e-01\n",
            "    1.73592198e+00 0.00000000e+00]\n",
            "   [0.00000000e+00 0.00000000e+00 7.89076924e-01 ... 0.00000000e+00\n",
            "    9.63113010e-01 0.00000000e+00]\n",
            "   [0.00000000e+00 0.00000000e+00 1.19756699e+00 ... 0.00000000e+00\n",
            "    4.20978248e-01 0.00000000e+00]]\n",
            "\n",
            "  ...\n",
            "\n",
            "  [[0.00000000e+00 4.43924636e-01 1.27728748e+00 ... 8.22727561e-01\n",
            "    8.20504844e-01 0.00000000e+00]\n",
            "   [0.00000000e+00 0.00000000e+00 1.42395091e+00 ... 4.68404204e-01\n",
            "    6.51500583e-01 0.00000000e+00]\n",
            "   [2.74771973e-02 0.00000000e+00 9.19285715e-01 ... 0.00000000e+00\n",
            "    7.60096729e-01 0.00000000e+00]\n",
            "   ...\n",
            "   [0.00000000e+00 0.00000000e+00 9.84773159e-01 ... 0.00000000e+00\n",
            "    1.58289611e-01 0.00000000e+00]\n",
            "   [0.00000000e+00 0.00000000e+00 0.00000000e+00 ... 0.00000000e+00\n",
            "    1.37080744e-01 0.00000000e+00]\n",
            "   [0.00000000e+00 0.00000000e+00 0.00000000e+00 ... 0.00000000e+00\n",
            "    0.00000000e+00 0.00000000e+00]]\n",
            "\n",
            "  [[0.00000000e+00 3.91770452e-01 2.30752563e+00 ... 1.06463754e+00\n",
            "    1.46840525e+00 3.61938506e-01]\n",
            "   [0.00000000e+00 0.00000000e+00 2.82147431e+00 ... 7.70354271e-01\n",
            "    1.25896049e+00 2.97800809e-01]\n",
            "   [0.00000000e+00 0.00000000e+00 5.53014696e-01 ... 2.51482517e-01\n",
            "    1.29827809e+00 2.67061770e-01]\n",
            "   ...\n",
            "   [0.00000000e+00 0.00000000e+00 1.33054209e+00 ... 0.00000000e+00\n",
            "    0.00000000e+00 0.00000000e+00]\n",
            "   [3.41398001e-01 0.00000000e+00 9.89856422e-01 ... 0.00000000e+00\n",
            "    0.00000000e+00 0.00000000e+00]\n",
            "   [2.78110560e-02 5.71076453e-01 6.84316576e-01 ... 0.00000000e+00\n",
            "    0.00000000e+00 0.00000000e+00]]\n",
            "\n",
            "  [[0.00000000e+00 5.82545884e-02 7.88833916e-01 ... 7.15199769e-01\n",
            "    1.64923310e+00 1.49324074e-01]\n",
            "   [0.00000000e+00 0.00000000e+00 2.25520039e+00 ... 5.08245945e-01\n",
            "    1.40124476e+00 1.75958171e-01]\n",
            "   [4.23383653e-01 0.00000000e+00 1.52353621e+00 ... 1.26330048e-01\n",
            "    1.32744467e+00 3.43941808e-01]\n",
            "   ...\n",
            "   [5.68849146e-01 0.00000000e+00 0.00000000e+00 ... 0.00000000e+00\n",
            "    0.00000000e+00 0.00000000e+00]\n",
            "   [9.25421596e-01 6.48025811e-01 6.92822039e-01 ... 0.00000000e+00\n",
            "    0.00000000e+00 4.29454483e-02]\n",
            "   [6.14277899e-01 7.86001742e-01 7.09911168e-01 ... 0.00000000e+00\n",
            "    0.00000000e+00 1.19958520e-02]]]\n",
            "\n",
            "\n",
            " [[[5.69941401e-01 0.00000000e+00 0.00000000e+00 ... 5.39277971e-01\n",
            "    0.00000000e+00 9.37651634e-01]\n",
            "   [3.01242415e-02 0.00000000e+00 0.00000000e+00 ... 3.33009094e-01\n",
            "    0.00000000e+00 6.21331871e-01]\n",
            "   [0.00000000e+00 0.00000000e+00 0.00000000e+00 ... 6.59455592e-03\n",
            "    0.00000000e+00 6.15548134e-01]\n",
            "   ...\n",
            "   [0.00000000e+00 0.00000000e+00 0.00000000e+00 ... 0.00000000e+00\n",
            "    0.00000000e+00 6.90894008e-01]\n",
            "   [0.00000000e+00 0.00000000e+00 0.00000000e+00 ... 0.00000000e+00\n",
            "    0.00000000e+00 5.75406849e-01]\n",
            "   [0.00000000e+00 0.00000000e+00 0.00000000e+00 ... 0.00000000e+00\n",
            "    0.00000000e+00 7.16745615e-01]]\n",
            "\n",
            "  [[2.37536892e-01 0.00000000e+00 3.06153387e-01 ... 5.46108723e-01\n",
            "    6.76141918e-01 1.17500627e+00]\n",
            "   [0.00000000e+00 1.51049986e-01 0.00000000e+00 ... 4.45847720e-01\n",
            "    3.43186170e-01 1.01081741e+00]\n",
            "   [0.00000000e+00 4.52285260e-01 0.00000000e+00 ... 2.03821659e-01\n",
            "    0.00000000e+00 1.16667187e+00]\n",
            "   ...\n",
            "   [1.65528893e-01 0.00000000e+00 0.00000000e+00 ... 0.00000000e+00\n",
            "    0.00000000e+00 1.11066031e+00]\n",
            "   [0.00000000e+00 0.00000000e+00 0.00000000e+00 ... 0.00000000e+00\n",
            "    0.00000000e+00 6.37296259e-01]\n",
            "   [0.00000000e+00 0.00000000e+00 0.00000000e+00 ... 0.00000000e+00\n",
            "    0.00000000e+00 5.40764213e-01]]\n",
            "\n",
            "  [[1.05664325e+00 0.00000000e+00 0.00000000e+00 ... 2.43655205e-01\n",
            "    1.60895348e+00 1.26474845e+00]\n",
            "   [2.90549946e+00 0.00000000e+00 7.32131362e-01 ... 2.63300061e-01\n",
            "    1.12728417e+00 1.37671912e+00]\n",
            "   [2.22034264e+00 0.00000000e+00 4.34720397e-01 ... 5.34148395e-01\n",
            "    5.70553362e-01 1.83017468e+00]\n",
            "   ...\n",
            "   [4.28906679e-01 0.00000000e+00 3.22563529e-01 ... 6.75826252e-01\n",
            "    0.00000000e+00 1.70247912e+00]\n",
            "   [5.41744351e-01 0.00000000e+00 0.00000000e+00 ... 5.99416733e-01\n",
            "    0.00000000e+00 8.85249794e-01]\n",
            "   [0.00000000e+00 0.00000000e+00 0.00000000e+00 ... 4.13596779e-01\n",
            "    0.00000000e+00 4.25878495e-01]]\n",
            "\n",
            "  ...\n",
            "\n",
            "  [[1.68179885e-01 0.00000000e+00 0.00000000e+00 ... 2.89603412e-01\n",
            "    0.00000000e+00 1.63960028e+00]\n",
            "   [0.00000000e+00 0.00000000e+00 5.44006169e-01 ... 3.17028105e-01\n",
            "    0.00000000e+00 1.48544538e+00]\n",
            "   [1.39707968e-01 0.00000000e+00 7.97905743e-01 ... 6.27372086e-01\n",
            "    0.00000000e+00 1.16542089e+00]\n",
            "   ...\n",
            "   [2.73154020e-01 0.00000000e+00 9.55043972e-01 ... 3.96678001e-01\n",
            "    0.00000000e+00 8.18887413e-01]\n",
            "   [3.02850217e-01 0.00000000e+00 5.73849261e-01 ... 2.73052156e-01\n",
            "    0.00000000e+00 2.77598947e-01]\n",
            "   [0.00000000e+00 0.00000000e+00 0.00000000e+00 ... 1.50645494e-01\n",
            "    0.00000000e+00 1.92016333e-01]]\n",
            "\n",
            "  [[0.00000000e+00 9.08914328e-01 0.00000000e+00 ... 1.68854594e-01\n",
            "    0.00000000e+00 1.00129378e+00]\n",
            "   [0.00000000e+00 1.22308016e+00 0.00000000e+00 ... 3.85579079e-01\n",
            "    0.00000000e+00 7.06879258e-01]\n",
            "   [9.85230505e-02 6.23405278e-01 0.00000000e+00 ... 4.91760463e-01\n",
            "    0.00000000e+00 3.51246387e-01]\n",
            "   ...\n",
            "   [0.00000000e+00 9.48923767e-01 1.87632740e-01 ... 0.00000000e+00\n",
            "    0.00000000e+00 0.00000000e+00]\n",
            "   [0.00000000e+00 5.19212186e-01 0.00000000e+00 ... 0.00000000e+00\n",
            "    0.00000000e+00 0.00000000e+00]\n",
            "   [0.00000000e+00 9.28541839e-01 0.00000000e+00 ... 0.00000000e+00\n",
            "    0.00000000e+00 2.42925901e-02]]\n",
            "\n",
            "  [[2.81882107e-01 0.00000000e+00 0.00000000e+00 ... 1.38085753e-01\n",
            "    0.00000000e+00 6.33841753e-01]\n",
            "   [0.00000000e+00 7.13249266e-01 0.00000000e+00 ... 2.68316329e-01\n",
            "    0.00000000e+00 1.54844284e-01]\n",
            "   [0.00000000e+00 8.88033330e-01 0.00000000e+00 ... 2.80169755e-01\n",
            "    0.00000000e+00 0.00000000e+00]\n",
            "   ...\n",
            "   [0.00000000e+00 0.00000000e+00 0.00000000e+00 ... 0.00000000e+00\n",
            "    0.00000000e+00 0.00000000e+00]\n",
            "   [2.63033919e-02 3.54058519e-02 0.00000000e+00 ... 0.00000000e+00\n",
            "    0.00000000e+00 0.00000000e+00]\n",
            "   [2.27385033e-02 0.00000000e+00 0.00000000e+00 ... 0.00000000e+00\n",
            "    0.00000000e+00 0.00000000e+00]]]\n",
            "\n",
            "\n",
            " [[[0.00000000e+00 4.73036766e-01 0.00000000e+00 ... 0.00000000e+00\n",
            "    1.53620636e+00 8.27690383e-05]\n",
            "   [0.00000000e+00 0.00000000e+00 4.55662571e-02 ... 0.00000000e+00\n",
            "    1.04665518e+00 6.43469095e-01]\n",
            "   [0.00000000e+00 0.00000000e+00 0.00000000e+00 ... 0.00000000e+00\n",
            "    0.00000000e+00 6.73217356e-01]\n",
            "   ...\n",
            "   [0.00000000e+00 3.68158722e+00 0.00000000e+00 ... 0.00000000e+00\n",
            "    2.59538579e+00 0.00000000e+00]\n",
            "   [0.00000000e+00 4.95250797e+00 0.00000000e+00 ... 0.00000000e+00\n",
            "    2.77264357e+00 0.00000000e+00]\n",
            "   [0.00000000e+00 3.46123648e+00 6.71183109e-01 ... 0.00000000e+00\n",
            "    2.21083403e+00 0.00000000e+00]]\n",
            "\n",
            "  [[0.00000000e+00 0.00000000e+00 5.73933363e-01 ... 0.00000000e+00\n",
            "    1.12347198e+00 0.00000000e+00]\n",
            "   [0.00000000e+00 3.19078714e-01 5.21559298e-01 ... 0.00000000e+00\n",
            "    6.48734033e-01 8.92014384e-01]\n",
            "   [0.00000000e+00 3.90745312e-01 0.00000000e+00 ... 0.00000000e+00\n",
            "    0.00000000e+00 1.24765337e+00]\n",
            "   ...\n",
            "   [0.00000000e+00 1.91507006e+00 1.65109420e+00 ... 0.00000000e+00\n",
            "    1.72865069e+00 0.00000000e+00]\n",
            "   [0.00000000e+00 3.59107280e+00 3.60053271e-01 ... 0.00000000e+00\n",
            "    2.08506417e+00 0.00000000e+00]\n",
            "   [0.00000000e+00 2.82874942e+00 2.73051053e-01 ... 0.00000000e+00\n",
            "    1.62696576e+00 0.00000000e+00]]\n",
            "\n",
            "  [[0.00000000e+00 0.00000000e+00 2.47235194e-01 ... 0.00000000e+00\n",
            "    0.00000000e+00 0.00000000e+00]\n",
            "   [0.00000000e+00 3.00429702e-01 2.13453412e-01 ... 0.00000000e+00\n",
            "    0.00000000e+00 1.11109316e+00]\n",
            "   [0.00000000e+00 9.46756661e-01 1.44581771e+00 ... 0.00000000e+00\n",
            "    0.00000000e+00 1.59253573e+00]\n",
            "   ...\n",
            "   [0.00000000e+00 3.86050612e-01 9.95758951e-01 ... 0.00000000e+00\n",
            "    5.58276117e-01 0.00000000e+00]\n",
            "   [0.00000000e+00 2.90266538e+00 0.00000000e+00 ... 0.00000000e+00\n",
            "    1.26054454e+00 0.00000000e+00]\n",
            "   [4.58439082e-01 2.11165476e+00 1.40353590e-01 ... 0.00000000e+00\n",
            "    1.19959247e+00 0.00000000e+00]]\n",
            "\n",
            "  ...\n",
            "\n",
            "  [[4.36134487e-01 0.00000000e+00 1.48231566e+00 ... 0.00000000e+00\n",
            "    4.00712162e-01 0.00000000e+00]\n",
            "   [2.88525283e-01 0.00000000e+00 1.07518709e+00 ... 0.00000000e+00\n",
            "    2.68116504e-01 0.00000000e+00]\n",
            "   [0.00000000e+00 1.98475808e-01 0.00000000e+00 ... 0.00000000e+00\n",
            "    0.00000000e+00 0.00000000e+00]\n",
            "   ...\n",
            "   [3.84932071e-01 0.00000000e+00 0.00000000e+00 ... 0.00000000e+00\n",
            "    0.00000000e+00 0.00000000e+00]\n",
            "   [0.00000000e+00 7.21641183e-01 9.54744145e-02 ... 1.15635023e-01\n",
            "    0.00000000e+00 0.00000000e+00]\n",
            "   [6.37419820e-01 1.55897486e+00 3.93370271e-01 ... 3.53086263e-01\n",
            "    0.00000000e+00 0.00000000e+00]]\n",
            "\n",
            "  [[8.69674981e-01 2.93872595e-01 1.50876784e+00 ... 0.00000000e+00\n",
            "    1.00108838e+00 0.00000000e+00]\n",
            "   [3.64539981e-01 1.47278920e-01 9.64611113e-01 ... 0.00000000e+00\n",
            "    1.30219245e+00 0.00000000e+00]\n",
            "   [0.00000000e+00 0.00000000e+00 0.00000000e+00 ... 0.00000000e+00\n",
            "    1.42351496e+00 0.00000000e+00]\n",
            "   ...\n",
            "   [4.95883077e-01 0.00000000e+00 0.00000000e+00 ... 0.00000000e+00\n",
            "    0.00000000e+00 9.20657907e-03]\n",
            "   [0.00000000e+00 0.00000000e+00 1.21105742e+00 ... 0.00000000e+00\n",
            "    1.75584331e-01 0.00000000e+00]\n",
            "   [0.00000000e+00 1.64886975e+00 8.55131328e-01 ... 0.00000000e+00\n",
            "    4.49144691e-01 0.00000000e+00]]\n",
            "\n",
            "  [[6.97888911e-01 4.84912097e-01 1.70395720e+00 ... 0.00000000e+00\n",
            "    9.87091124e-01 0.00000000e+00]\n",
            "   [3.50768119e-01 3.46750021e-01 8.36594522e-01 ... 0.00000000e+00\n",
            "    1.61532927e+00 0.00000000e+00]\n",
            "   [0.00000000e+00 0.00000000e+00 0.00000000e+00 ... 0.00000000e+00\n",
            "    2.28669024e+00 0.00000000e+00]\n",
            "   ...\n",
            "   [2.42063567e-01 0.00000000e+00 4.51330185e-01 ... 0.00000000e+00\n",
            "    6.97793886e-02 8.25368226e-01]\n",
            "   [1.10496151e+00 0.00000000e+00 2.15881681e+00 ... 0.00000000e+00\n",
            "    4.81787652e-01 1.76021740e-01]\n",
            "   [0.00000000e+00 0.00000000e+00 1.10692990e+00 ... 0.00000000e+00\n",
            "    6.66730344e-01 0.00000000e+00]]]\n",
            "\n",
            "\n",
            " ...\n",
            "\n",
            "\n",
            " [[[1.62422165e-01 3.12306762e-01 0.00000000e+00 ... 0.00000000e+00\n",
            "    0.00000000e+00 0.00000000e+00]\n",
            "   [0.00000000e+00 0.00000000e+00 1.11317955e-01 ... 0.00000000e+00\n",
            "    0.00000000e+00 0.00000000e+00]\n",
            "   [0.00000000e+00 0.00000000e+00 0.00000000e+00 ... 0.00000000e+00\n",
            "    1.32126912e-01 0.00000000e+00]\n",
            "   ...\n",
            "   [0.00000000e+00 1.03597976e-01 0.00000000e+00 ... 0.00000000e+00\n",
            "    3.51956278e-01 3.83104533e-01]\n",
            "   [0.00000000e+00 0.00000000e+00 0.00000000e+00 ... 0.00000000e+00\n",
            "    4.14866686e-01 0.00000000e+00]\n",
            "   [0.00000000e+00 1.62282944e-01 0.00000000e+00 ... 0.00000000e+00\n",
            "    7.47587740e-01 0.00000000e+00]]\n",
            "\n",
            "  [[0.00000000e+00 0.00000000e+00 2.96854731e-02 ... 0.00000000e+00\n",
            "    0.00000000e+00 0.00000000e+00]\n",
            "   [0.00000000e+00 0.00000000e+00 3.90422463e-01 ... 0.00000000e+00\n",
            "    0.00000000e+00 0.00000000e+00]\n",
            "   [0.00000000e+00 0.00000000e+00 0.00000000e+00 ... 0.00000000e+00\n",
            "    0.00000000e+00 2.99505711e-01]\n",
            "   ...\n",
            "   [5.71885705e-01 0.00000000e+00 1.18427622e+00 ... 0.00000000e+00\n",
            "    0.00000000e+00 6.78830966e-02]\n",
            "   [0.00000000e+00 0.00000000e+00 1.91976950e-01 ... 0.00000000e+00\n",
            "    1.46094203e-01 0.00000000e+00]\n",
            "   [0.00000000e+00 0.00000000e+00 0.00000000e+00 ... 0.00000000e+00\n",
            "    4.33989912e-01 0.00000000e+00]]\n",
            "\n",
            "  [[0.00000000e+00 0.00000000e+00 2.93792456e-01 ... 0.00000000e+00\n",
            "    0.00000000e+00 2.73008943e-01]\n",
            "   [0.00000000e+00 0.00000000e+00 5.46367392e-02 ... 0.00000000e+00\n",
            "    0.00000000e+00 4.20381784e-01]\n",
            "   [0.00000000e+00 0.00000000e+00 0.00000000e+00 ... 0.00000000e+00\n",
            "    0.00000000e+00 6.33156359e-01]\n",
            "   ...\n",
            "   [0.00000000e+00 0.00000000e+00 1.61045998e-01 ... 0.00000000e+00\n",
            "    0.00000000e+00 2.35748827e-01]\n",
            "   [0.00000000e+00 2.54318058e-01 0.00000000e+00 ... 2.08731666e-01\n",
            "    0.00000000e+00 4.36285101e-02]\n",
            "   [0.00000000e+00 3.86360079e-01 0.00000000e+00 ... 5.03193796e-01\n",
            "    0.00000000e+00 0.00000000e+00]]\n",
            "\n",
            "  ...\n",
            "\n",
            "  [[0.00000000e+00 0.00000000e+00 0.00000000e+00 ... 5.34220636e-01\n",
            "    0.00000000e+00 3.32808763e-01]\n",
            "   [0.00000000e+00 0.00000000e+00 0.00000000e+00 ... 4.99388933e-01\n",
            "    0.00000000e+00 4.93693113e-01]\n",
            "   [0.00000000e+00 6.33070350e-01 0.00000000e+00 ... 0.00000000e+00\n",
            "    0.00000000e+00 1.28518656e-01]\n",
            "   ...\n",
            "   [5.63806832e-01 6.89183116e-01 5.11173069e-01 ... 0.00000000e+00\n",
            "    0.00000000e+00 5.04807472e-01]\n",
            "   [0.00000000e+00 1.96852550e-01 3.53300005e-01 ... 5.83606958e-01\n",
            "    0.00000000e+00 5.51855087e-01]\n",
            "   [0.00000000e+00 0.00000000e+00 8.00293446e-01 ... 6.52913928e-01\n",
            "    0.00000000e+00 6.13826215e-01]]\n",
            "\n",
            "  [[0.00000000e+00 0.00000000e+00 0.00000000e+00 ... 5.65171123e-01\n",
            "    1.42857105e-01 0.00000000e+00]\n",
            "   [0.00000000e+00 0.00000000e+00 0.00000000e+00 ... 5.06977499e-01\n",
            "    1.03913061e-02 0.00000000e+00]\n",
            "   [1.41803384e-01 0.00000000e+00 0.00000000e+00 ... 1.02395028e-01\n",
            "    0.00000000e+00 0.00000000e+00]\n",
            "   ...\n",
            "   [0.00000000e+00 3.37957561e-01 4.26612645e-01 ... 1.72615945e-01\n",
            "    0.00000000e+00 0.00000000e+00]\n",
            "   [0.00000000e+00 0.00000000e+00 0.00000000e+00 ... 7.32327342e-01\n",
            "    0.00000000e+00 0.00000000e+00]\n",
            "   [4.76103455e-01 0.00000000e+00 0.00000000e+00 ... 9.50202763e-01\n",
            "    0.00000000e+00 2.47496545e-01]]\n",
            "\n",
            "  [[0.00000000e+00 0.00000000e+00 0.00000000e+00 ... 4.45420980e-01\n",
            "    4.54906493e-01 4.97110449e-02]\n",
            "   [0.00000000e+00 0.00000000e+00 0.00000000e+00 ... 3.74898791e-01\n",
            "    2.48911113e-01 6.02856390e-02]\n",
            "   [1.49763525e-01 2.79973000e-01 0.00000000e+00 ... 4.43696044e-02\n",
            "    5.00210710e-02 3.21618378e-01]\n",
            "   ...\n",
            "   [1.95061758e-01 0.00000000e+00 0.00000000e+00 ... 5.32821596e-01\n",
            "    0.00000000e+00 0.00000000e+00]\n",
            "   [1.09860718e+00 0.00000000e+00 0.00000000e+00 ... 1.02070427e+00\n",
            "    0.00000000e+00 0.00000000e+00]\n",
            "   [3.36824983e-01 7.28425980e-01 0.00000000e+00 ... 1.27660370e+00\n",
            "    0.00000000e+00 8.64950120e-02]]]\n",
            "\n",
            "\n",
            " [[[3.13752472e-01 1.59062073e-02 0.00000000e+00 ... 1.87612846e-01\n",
            "    1.22660649e+00 1.42779887e-01]\n",
            "   [6.23620570e-01 4.01174352e-02 0.00000000e+00 ... 0.00000000e+00\n",
            "    1.69374287e+00 0.00000000e+00]\n",
            "   [1.88772351e-01 2.50038840e-02 0.00000000e+00 ... 0.00000000e+00\n",
            "    1.89810693e+00 0.00000000e+00]\n",
            "   ...\n",
            "   [0.00000000e+00 1.57647595e-01 0.00000000e+00 ... 0.00000000e+00\n",
            "    1.47780597e+00 0.00000000e+00]\n",
            "   [2.79615700e-01 0.00000000e+00 0.00000000e+00 ... 0.00000000e+00\n",
            "    5.91991603e-01 0.00000000e+00]\n",
            "   [0.00000000e+00 0.00000000e+00 0.00000000e+00 ... 0.00000000e+00\n",
            "    2.04732105e-01 0.00000000e+00]]\n",
            "\n",
            "  [[3.84792268e-01 0.00000000e+00 0.00000000e+00 ... 5.90798035e-02\n",
            "    1.61332071e+00 2.37293318e-01]\n",
            "   [0.00000000e+00 0.00000000e+00 0.00000000e+00 ... 0.00000000e+00\n",
            "    1.75833023e+00 0.00000000e+00]\n",
            "   [0.00000000e+00 0.00000000e+00 0.00000000e+00 ... 0.00000000e+00\n",
            "    1.78345382e+00 0.00000000e+00]\n",
            "   ...\n",
            "   [5.64280629e-01 0.00000000e+00 1.11383188e+00 ... 0.00000000e+00\n",
            "    1.29149199e+00 0.00000000e+00]\n",
            "   [5.73781610e-01 0.00000000e+00 2.17846394e-01 ... 0.00000000e+00\n",
            "    7.57546604e-01 0.00000000e+00]\n",
            "   [9.92735445e-01 0.00000000e+00 0.00000000e+00 ... 0.00000000e+00\n",
            "    4.84409034e-01 0.00000000e+00]]\n",
            "\n",
            "  [[0.00000000e+00 0.00000000e+00 0.00000000e+00 ... 0.00000000e+00\n",
            "    2.18837190e+00 1.52215019e-01]\n",
            "   [0.00000000e+00 0.00000000e+00 0.00000000e+00 ... 0.00000000e+00\n",
            "    1.73709512e+00 0.00000000e+00]\n",
            "   [9.86792445e-02 0.00000000e+00 9.96942103e-01 ... 0.00000000e+00\n",
            "    1.28524375e+00 0.00000000e+00]\n",
            "   ...\n",
            "   [4.27657813e-01 0.00000000e+00 8.62784803e-01 ... 0.00000000e+00\n",
            "    1.08156276e+00 0.00000000e+00]\n",
            "   [3.14032972e-01 0.00000000e+00 5.17154932e-01 ... 0.00000000e+00\n",
            "    1.20860016e+00 0.00000000e+00]\n",
            "   [8.32520247e-01 0.00000000e+00 3.99324208e-01 ... 0.00000000e+00\n",
            "    1.32172680e+00 0.00000000e+00]]\n",
            "\n",
            "  ...\n",
            "\n",
            "  [[0.00000000e+00 8.32881749e-01 9.66784000e-01 ... 0.00000000e+00\n",
            "    4.36575085e-01 0.00000000e+00]\n",
            "   [0.00000000e+00 0.00000000e+00 3.14138979e-01 ... 4.79087792e-02\n",
            "    0.00000000e+00 0.00000000e+00]\n",
            "   [0.00000000e+00 0.00000000e+00 0.00000000e+00 ... 0.00000000e+00\n",
            "    0.00000000e+00 0.00000000e+00]\n",
            "   ...\n",
            "   [0.00000000e+00 0.00000000e+00 0.00000000e+00 ... 0.00000000e+00\n",
            "    0.00000000e+00 0.00000000e+00]\n",
            "   [0.00000000e+00 0.00000000e+00 0.00000000e+00 ... 0.00000000e+00\n",
            "    3.01501721e-01 0.00000000e+00]\n",
            "   [1.10008247e-01 3.72530483e-02 1.05622160e+00 ... 0.00000000e+00\n",
            "    5.89550376e-01 0.00000000e+00]]\n",
            "\n",
            "  [[0.00000000e+00 3.16893011e-01 0.00000000e+00 ... 0.00000000e+00\n",
            "    0.00000000e+00 0.00000000e+00]\n",
            "   [0.00000000e+00 0.00000000e+00 5.89292645e-01 ... 0.00000000e+00\n",
            "    0.00000000e+00 0.00000000e+00]\n",
            "   [0.00000000e+00 0.00000000e+00 7.63076425e-01 ... 0.00000000e+00\n",
            "    0.00000000e+00 0.00000000e+00]\n",
            "   ...\n",
            "   [0.00000000e+00 4.69821632e-01 0.00000000e+00 ... 0.00000000e+00\n",
            "    0.00000000e+00 0.00000000e+00]\n",
            "   [1.23402126e-01 0.00000000e+00 0.00000000e+00 ... 0.00000000e+00\n",
            "    0.00000000e+00 0.00000000e+00]\n",
            "   [4.82587181e-02 0.00000000e+00 0.00000000e+00 ... 0.00000000e+00\n",
            "    1.38389260e-01 0.00000000e+00]]\n",
            "\n",
            "  [[0.00000000e+00 0.00000000e+00 0.00000000e+00 ... 0.00000000e+00\n",
            "    0.00000000e+00 0.00000000e+00]\n",
            "   [0.00000000e+00 0.00000000e+00 0.00000000e+00 ... 0.00000000e+00\n",
            "    0.00000000e+00 0.00000000e+00]\n",
            "   [0.00000000e+00 0.00000000e+00 0.00000000e+00 ... 0.00000000e+00\n",
            "    0.00000000e+00 0.00000000e+00]\n",
            "   ...\n",
            "   [0.00000000e+00 0.00000000e+00 0.00000000e+00 ... 0.00000000e+00\n",
            "    0.00000000e+00 0.00000000e+00]\n",
            "   [0.00000000e+00 0.00000000e+00 0.00000000e+00 ... 0.00000000e+00\n",
            "    0.00000000e+00 0.00000000e+00]\n",
            "   [0.00000000e+00 1.18565001e-01 0.00000000e+00 ... 0.00000000e+00\n",
            "    3.36270332e-02 0.00000000e+00]]]\n",
            "\n",
            "\n",
            " [[[0.00000000e+00 0.00000000e+00 0.00000000e+00 ... 0.00000000e+00\n",
            "    4.61299568e-02 0.00000000e+00]\n",
            "   [0.00000000e+00 0.00000000e+00 0.00000000e+00 ... 0.00000000e+00\n",
            "    1.33963093e-01 0.00000000e+00]\n",
            "   [0.00000000e+00 0.00000000e+00 0.00000000e+00 ... 0.00000000e+00\n",
            "    0.00000000e+00 0.00000000e+00]\n",
            "   ...\n",
            "   [7.58016229e-01 1.21965742e+00 1.90871608e+00 ... 0.00000000e+00\n",
            "    2.41249576e-01 0.00000000e+00]\n",
            "   [1.22890985e+00 1.04118752e+00 2.02532434e+00 ... 0.00000000e+00\n",
            "    5.81870735e-01 0.00000000e+00]\n",
            "   [0.00000000e+00 0.00000000e+00 9.77602541e-01 ... 0.00000000e+00\n",
            "    5.65592349e-01 3.96245986e-01]]\n",
            "\n",
            "  [[8.45845491e-02 0.00000000e+00 0.00000000e+00 ... 0.00000000e+00\n",
            "    2.99443305e-01 0.00000000e+00]\n",
            "   [0.00000000e+00 0.00000000e+00 0.00000000e+00 ... 0.00000000e+00\n",
            "    6.62327945e-01 0.00000000e+00]\n",
            "   [6.85471177e-01 0.00000000e+00 1.04954541e+00 ... 0.00000000e+00\n",
            "    7.69330084e-01 0.00000000e+00]\n",
            "   ...\n",
            "   [2.89255762e+00 0.00000000e+00 2.52711678e+00 ... 0.00000000e+00\n",
            "    5.79440653e-01 0.00000000e+00]\n",
            "   [2.89931631e+00 0.00000000e+00 2.33654666e+00 ... 0.00000000e+00\n",
            "    5.48159301e-01 0.00000000e+00]\n",
            "   [4.84651625e-01 0.00000000e+00 6.55796528e-01 ... 0.00000000e+00\n",
            "    3.01954508e-01 2.27327943e-01]]\n",
            "\n",
            "  [[0.00000000e+00 0.00000000e+00 0.00000000e+00 ... 0.00000000e+00\n",
            "    1.22553253e+00 1.95048720e-01]\n",
            "   [3.83198738e-01 0.00000000e+00 0.00000000e+00 ... 0.00000000e+00\n",
            "    1.56444919e+00 3.16510707e-01]\n",
            "   [1.04006529e+00 0.00000000e+00 4.44037765e-01 ... 0.00000000e+00\n",
            "    1.83651125e+00 7.16765702e-01]\n",
            "   ...\n",
            "   [1.87518477e+00 6.51347160e-01 2.28332996e+00 ... 0.00000000e+00\n",
            "    5.17495275e-01 0.00000000e+00]\n",
            "   [1.91526806e+00 0.00000000e+00 2.05092430e+00 ... 0.00000000e+00\n",
            "    2.40912333e-01 0.00000000e+00]\n",
            "   [0.00000000e+00 0.00000000e+00 1.48912466e+00 ... 0.00000000e+00\n",
            "    0.00000000e+00 0.00000000e+00]]\n",
            "\n",
            "  ...\n",
            "\n",
            "  [[6.33563876e-01 0.00000000e+00 0.00000000e+00 ... 0.00000000e+00\n",
            "    2.07767820e+00 5.22681952e-01]\n",
            "   [5.93664169e-01 2.15266913e-01 0.00000000e+00 ... 2.36849129e-01\n",
            "    2.21563864e+00 3.07500176e-02]\n",
            "   [9.88326520e-02 8.09050381e-01 0.00000000e+00 ... 8.20511341e-01\n",
            "    2.61998677e+00 0.00000000e+00]\n",
            "   ...\n",
            "   [0.00000000e+00 0.00000000e+00 0.00000000e+00 ... 0.00000000e+00\n",
            "    0.00000000e+00 0.00000000e+00]\n",
            "   [0.00000000e+00 0.00000000e+00 0.00000000e+00 ... 0.00000000e+00\n",
            "    0.00000000e+00 0.00000000e+00]\n",
            "   [0.00000000e+00 0.00000000e+00 0.00000000e+00 ... 0.00000000e+00\n",
            "    0.00000000e+00 0.00000000e+00]]\n",
            "\n",
            "  [[3.62836540e-01 7.63927698e-02 0.00000000e+00 ... 0.00000000e+00\n",
            "    1.67925084e+00 0.00000000e+00]\n",
            "   [9.48312819e-01 8.13455701e-01 0.00000000e+00 ... 0.00000000e+00\n",
            "    1.74357748e+00 0.00000000e+00]\n",
            "   [2.46633321e-01 3.04461867e-01 4.17576879e-01 ... 0.00000000e+00\n",
            "    2.17886448e+00 0.00000000e+00]\n",
            "   ...\n",
            "   [0.00000000e+00 0.00000000e+00 0.00000000e+00 ... 0.00000000e+00\n",
            "    0.00000000e+00 1.46864891e-01]\n",
            "   [0.00000000e+00 0.00000000e+00 0.00000000e+00 ... 0.00000000e+00\n",
            "    0.00000000e+00 0.00000000e+00]\n",
            "   [0.00000000e+00 3.34291644e-02 0.00000000e+00 ... 0.00000000e+00\n",
            "    0.00000000e+00 0.00000000e+00]]\n",
            "\n",
            "  [[9.14824188e-01 3.48911852e-01 1.49101210e+00 ... 0.00000000e+00\n",
            "    1.01973879e+00 0.00000000e+00]\n",
            "   [1.27738094e+00 0.00000000e+00 1.66288316e+00 ... 0.00000000e+00\n",
            "    8.69639158e-01 0.00000000e+00]\n",
            "   [1.36557984e+00 2.32903153e-01 1.22878969e+00 ... 0.00000000e+00\n",
            "    8.97159636e-01 2.36448690e-01]\n",
            "   ...\n",
            "   [0.00000000e+00 0.00000000e+00 0.00000000e+00 ... 0.00000000e+00\n",
            "    0.00000000e+00 4.29890186e-01]\n",
            "   [0.00000000e+00 0.00000000e+00 0.00000000e+00 ... 0.00000000e+00\n",
            "    0.00000000e+00 0.00000000e+00]\n",
            "   [0.00000000e+00 0.00000000e+00 0.00000000e+00 ... 0.00000000e+00\n",
            "    0.00000000e+00 0.00000000e+00]]]], shape=(32, 8, 8, 2048), dtype=float32) tf.Tensor(\n",
            "[[   0    0    0    0    0    0    0    0    0    0    0    0    0    1\n",
            "     4   88  973  510]\n",
            " [   0    0    0    0    0    0    0    0    0    0    0    0    0    5\n",
            "     2  262  102  289]\n",
            " [   0    0    0    0    0    0    0    0    0    0    0    1    7   18\n",
            "   292    6    4   17]\n",
            " [   0    0    0    0    0    0    0    0    0    1    2   12    8    2\n",
            "   149   14    3  494]\n",
            " [   0    0    0    0    0    0    0    0    0    0    0    9    2  155\n",
            "    16    3  996 2706]\n",
            " [   0    0    0    0    0    0    0    0    0    0    0    1    7    3\n",
            "   122  239    2   41]\n",
            " [   0    0    0    0    0    0    0    0    0    0    0    9 1354 1969\n",
            "    16    2   38  237]\n",
            " [   0    0    0    0    0    0    0    0    0    0    0    0    0    1\n",
            "     7    3  854  194]\n",
            " [   0    0    0    0    0    0    0    0    0    0    0    1    7    3\n",
            "   852    8    2  853]\n",
            " [   0    0    0    0    0    0    0    0    0    0    0    0    0    1\n",
            "     2   72  530   94]\n",
            " [   0    0    0    0    0    0    0    0    0    0    0    1    4  513\n",
            "   254    8    2   81]\n",
            " [   0    0    0    0    0    0    0    0    0    0    0    0    0    0\n",
            "     1    4    3 1951]\n",
            " [   0    0    0    0    0    0    0    0    0    0    0    1    2   37\n",
            "   101    8    2   73]\n",
            " [   0    0    0    0    0    0    0    0    0    0    0    0    5   65\n",
            "   112  175  658 2736]\n",
            " [   0    0    0    0    0    0    0    0    0    0    0    1    2   12\n",
            "   296   31    2  289]\n",
            " [   0    0    0    0    0    0    0    0    0    0    0    5    2   40\n",
            "   188    2   38  284]\n",
            " [   0    0    0    0    0    0    0    0    0    0    0    0    0    0\n",
            "     5    2   19  405]\n",
            " [   0    0    0    0    0    0    0    0    0    0    0    5    7   18\n",
            "  1355    8    2  141]\n",
            " [   0    0    0    0    0    0    0    0    0    0    0    0    0    1\n",
            "     4    3 2708   56]\n",
            " [   0    0    0    0    0    0    0    0    0    0    0    0    0    0\n",
            "     1    2 1182 1065]\n",
            " [   0    0    0    0    0    0    0    0    0    0    0    0    0    0\n",
            "     5    2  209  138]\n",
            " [   0    0    0    0    0    0    0    0    0    0    0    0    0    0\n",
            "     1    4    3  325]\n",
            " [   0    0    0    0    0    0    0    0    0    0    0    1    2   12\n",
            "     8   62  484  144]\n",
            " [   0    0    0    0    0    0    0    0    0    0    0    0    0    9\n",
            "     2  979   34  142]\n",
            " [   0    0    0    0    0    0    0    0    0    0    0    0    0    1\n",
            "     4    3   42  788]\n",
            " [   0    0    0    0    0    0    0    0    0    0    0    0    5    7\n",
            "   145 2721   91 2722]\n",
            " [   0    0    0    0    0    0    0    0    0    0    0    0    0    1\n",
            "     7    3  557  122]\n",
            " [   0    0    0    0    0    0    0    0    0    0    0    0    1   27\n",
            "   511    6    2   74]\n",
            " [   0    0    0    0    0    0    0    0    0    0   32   23 2649    2\n",
            "   531    8    2  732]\n",
            " [   0    0    0    0    0    0    0    0    0    0    0    1    7   24\n",
            "  1074    8    2  135]\n",
            " [   0    0    0    0    0    0    0    0    0    0    0    0    1    4\n",
            "    12    3  247 2686]\n",
            " [   0    0    0    0    0    0    0    0    0    0    0    0    0   20\n",
            "    26   58  912  628]], shape=(32, 18), dtype=int32) tf.Tensor(\n",
            "[1. 1. 0. 1. 0. 1. 0. 1. 0. 1. 0. 1. 1. 1. 0. 0. 0. 0. 1. 1. 1. 1. 1. 0.\n",
            " 0. 1. 1. 1. 1. 0. 1. 0.], shape=(32,), dtype=float32) tf.Tensor(\n",
            "[b'/content/thumbnails/COCO_train2014_000000578950.jpg'\n",
            " b'/content/thumbnails/COCO_train2014_000000498918.jpg'\n",
            " b'/content/thumbnails/COCO_train2014_000000429215.jpg'\n",
            " b'/content/thumbnails/COCO_train2014_000000405246.jpg'\n",
            " b'/content/thumbnails/COCO_train2014_000000448013.jpg'\n",
            " b'/content/thumbnails/COCO_train2014_000000088754.jpg'\n",
            " b'/content/thumbnails/COCO_train2014_000000355894.jpg'\n",
            " b'/content/thumbnails/COCO_train2014_000000502116.jpg'\n",
            " b'/content/thumbnails/COCO_train2014_000000490596.jpg'\n",
            " b'/content/thumbnails/COCO_train2014_000000110169.jpg'\n",
            " b'/content/thumbnails/COCO_train2014_000000168661.jpg'\n",
            " b'/content/thumbnails/COCO_train2014_000000235844.jpg'\n",
            " b'/content/thumbnails/COCO_train2014_000000565462.jpg'\n",
            " b'/content/thumbnails/COCO_train2014_000000027764.jpg'\n",
            " b'/content/thumbnails/COCO_train2014_000000038899.jpg'\n",
            " b'/content/thumbnails/COCO_train2014_000000508612.jpg'\n",
            " b'/content/thumbnails/COCO_train2014_000000439855.jpg'\n",
            " b'/content/thumbnails/COCO_train2014_000000521021.jpg'\n",
            " b'/content/thumbnails/COCO_train2014_000000470561.jpg'\n",
            " b'/content/thumbnails/COCO_train2014_000000076971.jpg'\n",
            " b'/content/thumbnails/COCO_train2014_000000461129.jpg'\n",
            " b'/content/thumbnails/COCO_train2014_000000467961.jpg'\n",
            " b'/content/thumbnails/COCO_train2014_000000265709.jpg'\n",
            " b'/content/thumbnails/COCO_train2014_000000397593.jpg'\n",
            " b'/content/thumbnails/COCO_train2014_000000025695.jpg'\n",
            " b'/content/thumbnails/COCO_train2014_000000513956.jpg'\n",
            " b'/content/thumbnails/COCO_train2014_000000367375.jpg'\n",
            " b'/content/thumbnails/COCO_train2014_000000544373.jpg'\n",
            " b'/content/thumbnails/COCO_train2014_000000429735.jpg'\n",
            " b'/content/thumbnails/COCO_train2014_000000159135.jpg'\n",
            " b'/content/thumbnails/COCO_train2014_000000087029.jpg'\n",
            " b'/content/thumbnails/COCO_train2014_000000395445.jpg'], shape=(32,), dtype=string)\n"
          ],
          "name": "stdout"
        }
      ]
    },
    {
      "cell_type": "markdown",
      "metadata": {
        "id": "9Z7a9VExmj_5",
        "colab_type": "text"
      },
      "source": [
        "### Define your VQA model\n",
        "\n",
        "You can base your code off the example give toward bottom of this [guide](https://keras.io/getting-started/functional-api-guide/) (but use a smaller model to start). Aim for a couple hundred thousand parameters or so"
      ]
    },
    {
      "cell_type": "code",
      "metadata": {
        "id": "vIjyol_olOxx",
        "colab_type": "code",
        "colab": {}
      },
      "source": [
        "from tensorflow.keras.layers import Dense, Embedding, Flatten, Input, LSTM\n",
        "from tensorflow.keras.models import Model, Sequential"
      ],
      "execution_count": 0,
      "outputs": []
    },
    {
      "cell_type": "code",
      "metadata": {
        "id": "bUOdkiOemwPZ",
        "colab_type": "code",
        "colab": {}
      },
      "source": [
        "# Your code here\n",
        "# Below is starter code for your model for you to complete.\n",
        "# See https://keras.io/getting-started/functional-api-guide/ for the idea.\n",
        "# The vision model is written for you. You will need to write the question\n",
        "# model.\n",
        "\n",
        "# Input to your vision model (activations from Inception-V3,\n",
        "# loaded off disk disk by the dataset above).\n",
        "image_input = Input(shape=(8, 8, 2048)) \n",
        "vision_model = Sequential()\n",
        "# Used to reduce the number of parameters (rather using a dense layer here).\n",
        "vision_model.add(tf.keras.layers.GlobalAveragePooling2D())\n",
        "# Output of your vision model\n",
        "encoded_image = vision_model(image_input) \n",
        "\n",
        "# Your code here\n",
        "# Write your test processing model that takes the vectorized and padded\n",
        "# question as input.\n",
        "# As in the guide above, you will want to produce an `encoded_question`\n",
        "# as output\n",
        "question_input = Input(shape=(MAX_SEQ_LEN,)) # your code\n",
        "embedded_question = Embedding(output_dim=256, input_dim=10000, input_length=MAX_SEQ_LEN)(question_input)\n",
        "encoded_question = LSTM(64)(embedded_question) # your code\n",
        "\n",
        "# Concatenate the encoded image and question\n",
        "merged = tf.keras.layers.concatenate([encoded_image, encoded_question])\n",
        "\n",
        "# Optionally, add a small dense layer\n",
        "dense = Dense(32, activation='relu')(merged)\n",
        "\n",
        "# Next, add a binary classifier on top\n",
        "output = Dense(1, activation='sigmoid')(dense)\n",
        "\n",
        "# Your final model\n",
        "model = Model(inputs=[image_input, question_input], outputs=output)"
      ],
      "execution_count": 0,
      "outputs": []
    },
    {
      "cell_type": "code",
      "metadata": {
        "id": "Bc5OEmXsp4CH",
        "colab_type": "code",
        "colab": {
          "base_uri": "https://localhost:8080/",
          "height": 451
        },
        "outputId": "20ba6b8f-b287-4b93-d98c-f53de679621f"
      },
      "source": [
        "model.summary()"
      ],
      "execution_count": 78,
      "outputs": [
        {
          "output_type": "stream",
          "text": [
            "Model: \"model_2\"\n",
            "__________________________________________________________________________________________________\n",
            "Layer (type)                    Output Shape         Param #     Connected to                     \n",
            "==================================================================================================\n",
            "input_5 (InputLayer)            [(None, 18)]         0                                            \n",
            "__________________________________________________________________________________________________\n",
            "input_4 (InputLayer)            [(None, 8, 8, 2048)] 0                                            \n",
            "__________________________________________________________________________________________________\n",
            "embedding_1 (Embedding)         (None, 18, 256)      2560000     input_5[0][0]                    \n",
            "__________________________________________________________________________________________________\n",
            "sequential_1 (Sequential)       (None, 2048)         0           input_4[0][0]                    \n",
            "__________________________________________________________________________________________________\n",
            "lstm_1 (LSTM)                   (None, 64)           82176       embedding_1[0][0]                \n",
            "__________________________________________________________________________________________________\n",
            "concatenate_3 (Concatenate)     (None, 2112)         0           sequential_1[0][0]               \n",
            "                                                                 lstm_1[0][0]                     \n",
            "__________________________________________________________________________________________________\n",
            "dense_2 (Dense)                 (None, 32)           67616       concatenate_3[0][0]              \n",
            "__________________________________________________________________________________________________\n",
            "dense_3 (Dense)                 (None, 1)            33          dense_2[0][0]                    \n",
            "==================================================================================================\n",
            "Total params: 2,709,825\n",
            "Trainable params: 2,709,825\n",
            "Non-trainable params: 0\n",
            "__________________________________________________________________________________________________\n"
          ],
          "name": "stdout"
        }
      ]
    },
    {
      "cell_type": "code",
      "metadata": {
        "id": "-XcTtLlPoHjR",
        "colab_type": "code",
        "colab": {}
      },
      "source": [
        "model.compile(optimizer='adam', \n",
        "              loss='binary_crossentropy',\n",
        "              metrics=['accuracy'])"
      ],
      "execution_count": 0,
      "outputs": []
    },
    {
      "cell_type": "markdown",
      "metadata": {
        "id": "cITtsogNXvgp",
        "colab_type": "text"
      },
      "source": [
        "### Plot your model\n",
        "Create a schematic that shows the graph of your model, using [plot_model](https://keras.io/visualization/). This can be helpful to ensure the vision and question paths look at expected (it's also super cool, and more informative than .summary)."
      ]
    },
    {
      "cell_type": "code",
      "metadata": {
        "id": "tPYyzzf2XxbX",
        "colab_type": "code",
        "colab": {
          "base_uri": "https://localhost:8080/",
          "height": 564
        },
        "outputId": "307a88ae-14b3-4870-a052-481e52f21165"
      },
      "source": [
        "# You should not need to modify this.\n",
        "from tensorflow.keras.utils import plot_model\n",
        "plot_model(model, to_file='model.png')"
      ],
      "execution_count": 69,
      "outputs": [
        {
          "output_type": "execute_result",
          "data": {
            "image/png": "[encoded data removed]",
            "text/plain": [
              "<IPython.core.display.Image object>"
            ]
          },
          "metadata": {
            "tags": []
          },
          "execution_count": 69
        }
      ]
    },
    {
      "cell_type": "markdown",
      "metadata": {
        "id": "WytdlCrO6iaq",
        "colab_type": "text"
      },
      "source": [
        "### Fit your model on a single batch\n",
        "Before training on your entire dataset, a helpful first step is to train repeatedly on a single batch, and verify the loss goes to zero. If your model is working properly, it should be able to memorize a batch of data. We will use ```model.train_on_batch``` for this."
      ]
    },
    {
      "cell_type": "code",
      "metadata": {
        "colab_type": "code",
        "id": "hvpBQv9Z9HlH",
        "colab": {}
      },
      "source": [
        "# You should not nee to modify this.\n",
        "# Retrieve a batch of data from your train dataset\n",
        "activations_batch, questions_batch, answers_batch, paths_batch = next(iter(train_ds))"
      ],
      "execution_count": 0,
      "outputs": []
    },
    {
      "cell_type": "code",
      "metadata": {
        "id": "vE-qMn5dgeYq",
        "colab_type": "code",
        "colab": {}
      },
      "source": [
        "# Your code here\n",
        "\n",
        "# Train them model repeatedly using model.train_on_batch\n",
        "# Verify the loss goes to zero after +/- 100 training steps.\n",
        "# If it does not, now would be a great time to debug \n",
        "# before proceeding further.\n",
        "\n",
        "# e.g.\n",
        "# metrics = model.train_on_batch ....\n",
        "# metrics is a list (loss is metrics[0], accuracy is metrics[1])\n",
        "loss = []\n",
        "ac = []\n",
        "for i in range(110):\n",
        "    metrics = model.train_on_batch( x=[activations_batch, questions_batch], y = answers_batch)\n",
        "    loss.append(metrics[0])\n",
        "    ac.append(metrics[1])"
      ],
      "execution_count": 0,
      "outputs": []
    },
    {
      "cell_type": "code",
      "metadata": {
        "id": "Y4gCH0L5siMW",
        "colab_type": "code",
        "colab": {
          "base_uri": "https://localhost:8080/",
          "height": 529
        },
        "outputId": "7a6d54d3-82d7-4b15-e5a7-09fc6058ef99"
      },
      "source": [
        "plt.plot(range(110), loss)\n",
        "plt.show()\n",
        "plt.title('loss of training data')\n",
        "plt.plot(range(110), ac)\n",
        "plt.title('acurracy of training data')\n",
        "plt.show()"
      ],
      "execution_count": 83,
      "outputs": [
        {
          "output_type": "display_data",
          "data": {
            "image/png": "[encoded data removed]",
            "text/plain": [
              "<Figure size 432x288 with 1 Axes>"
            ]
          },
          "metadata": {
            "tags": []
          }
        },
        {
          "output_type": "display_data",
          "data": {
            "image/png": "[encoded data removed]",
            "text/plain": [
              "<Figure size 432x288 with 1 Axes>"
            ]
          },
          "metadata": {
            "tags": []
          }
        }
      ]
    },
    {
      "cell_type": "markdown",
      "metadata": {
        "id": "4SbfozOJu8sv",
        "colab_type": "text"
      },
      "source": [
        "The accurracy goes to 1.0 and loss goes to 0.0 before 100, indicating that the model is working properly."
      ]
    },
    {
      "cell_type": "markdown",
      "metadata": {
        "id": "02reDBJKtCk8",
        "colab_type": "text"
      },
      "source": [
        "### Use your model to make predictions on the same batch above\n",
        "Compare the predicted answer to the label. Verify they match."
      ]
    },
    {
      "cell_type": "code",
      "metadata": {
        "id": "yaIEX9AJnRTn",
        "colab_type": "code",
        "colab": {
          "base_uri": "https://localhost:8080/",
          "height": 572
        },
        "outputId": "316314d0-51b0-4f98-9a4b-e2837e643803"
      },
      "source": [
        "# You should not need to modify this, but you will want to \n",
        "# carefully inspect the output.\n",
        "for prediction, answer in zip(model.predict(x=[activations_batch, questions_batch]), answers_batch):\n",
        "  print(prediction, answer.numpy())"
      ],
      "execution_count": 84,
      "outputs": [
        {
          "output_type": "stream",
          "text": [
            "[0.99980706] 1.0\n",
            "[3.3587217e-05] 0.0\n",
            "[0.9999782] 1.0\n",
            "[0.99998116] 1.0\n",
            "[0.00022545] 0.0\n",
            "[0.9998945] 1.0\n",
            "[0.99997497] 1.0\n",
            "[0.99999535] 1.0\n",
            "[6.2584877e-06] 0.0\n",
            "[0.99977267] 1.0\n",
            "[8.761883e-06] 0.0\n",
            "[0.99998254] 1.0\n",
            "[0.00049797] 0.0\n",
            "[1.9550323e-05] 0.0\n",
            "[0.00021842] 0.0\n",
            "[6.443262e-05] 0.0\n",
            "[1.7017126e-05] 0.0\n",
            "[0.9999841] 1.0\n",
            "[0.99998593] 1.0\n",
            "[0.00013381] 0.0\n",
            "[0.9999639] 1.0\n",
            "[0.9997828] 1.0\n",
            "[5.1259995e-06] 0.0\n",
            "[0.9999378] 1.0\n",
            "[0.99999213] 1.0\n",
            "[3.233552e-05] 0.0\n",
            "[1.731515e-05] 0.0\n",
            "[0.999994] 1.0\n",
            "[3.3080578e-06] 0.0\n",
            "[0.99975073] 1.0\n",
            "[7.271767e-05] 0.0\n",
            "[0.99998295] 1.0\n"
          ],
          "name": "stdout"
        }
      ]
    },
    {
      "cell_type": "markdown",
      "metadata": {
        "id": "LJt8kREQuyEg",
        "colab_type": "text"
      },
      "source": [
        "The answer predicted is consisitent with the label shown above."
      ]
    },
    {
      "cell_type": "markdown",
      "metadata": {
        "id": "sDqSu9Ym04nR",
        "colab_type": "text"
      },
      "source": [
        "### Create a checkpoints directory\n",
        "\n",
        "Once you have been able to train your model on a single batch, it's time to begin training on your training dataset. It may take a while to train for a single epoch, and it would be unfortunate if Colab disconnected after training for a while, and you lost your progress.\n",
        "\n",
        "* After each training epoch, save the model's weights in a checkpoint file. You can learn more about how to create checkpoints [here](https://www.tensorflow.org/guide/keras/save_and_serialize). \n",
        "\n",
        "* To resume training, load the latest checkpoint from disk. This will restore the latest weights and resume your progress. If it does not exist, begin training from scratch.\n",
        "\n",
        "* As a tip, you may want to store your checkpoints in Google Drive, so you'll still have access to them if Colab disconnects. \n",
        "\n",
        "Note that running long jobs is not what Colab is intended for. Normally, you could simple save your checkpoints on the machine you're working on. Saving to drive adds an extra step, but it's worthwhile learning how to do.\n",
        "\n",
        "Tip: after mounting Drive, **do not** programmatically run any commands to delete files from your checkpoints folder or elsewhere (e.g., by using ```!rm -rf```) in Colab. If you're not careful, you may accidentally wipe out your entire drive if you make a programming mistake. \n",
        "\n",
        "* Instead, if you need to delete checkpoints, do so manually through the drive user interface. Note that files deleted through the UI may take a minute or so to \"actually\" be deleted as reflected by ```!ls``` commands run from Colab."
      ]
    },
    {
      "cell_type": "code",
      "metadata": {
        "id": "9DhXkN3i06TY",
        "colab_type": "code",
        "colab": {
          "base_uri": "https://localhost:8080/",
          "height": 124
        },
        "outputId": "2ccffb74-de3e-4619-9cc2-db70e6aadf35"
      },
      "source": [
        "# Mount drive\n",
        "drive.mount('/gdrive')\n",
        "drive_root = '/gdrive/My Drive/'"
      ],
      "execution_count": 85,
      "outputs": [
        {
          "output_type": "stream",
          "text": [
            "Go to this URL in a browser: https://accounts.google.com/o/oauth2/auth?client_id=947318989803-6bn6qk8qdgf4n4g3pfee6491hc0brc4i.apps.googleusercontent.com&redirect_uri=urn%3aietf%3awg%3aoauth%3a2.0%3aoob&response_type=code&scope=email%20https%3a%2f%2fwww.googleapis.com%2fauth%2fdocs.test%20https%3a%2f%2fwww.googleapis.com%2fauth%2fdrive%20https%3a%2f%2fwww.googleapis.com%2fauth%2fdrive.photos.readonly%20https%3a%2f%2fwww.googleapis.com%2fauth%2fpeopleapi.readonly\n",
            "\n",
            "Enter your authorization code:\n",
            "··········\n",
            "Mounted at /gdrive\n"
          ],
          "name": "stdout"
        }
      ]
    },
    {
      "cell_type": "code",
      "metadata": {
        "id": "CMzFtWcJy8eC",
        "colab_type": "code",
        "colab": {}
      },
      "source": [
        "# If you'd like to save checkpoints in drive, you will need to uncomment\n",
        "# the code below. Alternatively, you can modify it to save\n",
        "# checkpoints in Colab (these will not persist if your instance is terminated,\n",
        "# but you can manually download them if you like).\n",
        "checkpoint_dir = os.path.join(drive_root, \"checkpoints\")\n",
        "checkpoint_dir = os.path.join(checkpoint_dir, \"hw4\")\n",
        "\n",
        "# Used for formatting\n",
        "checkpoint_path = os.path.join(checkpoint_dir, \"cp-{epoch:08d}.ckpt\")"
      ],
      "execution_count": 0,
      "outputs": []
    },
    {
      "cell_type": "code",
      "metadata": {
        "id": "JcLFRePmatah",
        "colab_type": "code",
        "colab": {
          "base_uri": "https://localhost:8080/",
          "height": 52
        },
        "outputId": "2d152001-232d-4e21-80c1-b1d0036bae95"
      },
      "source": [
        "# Your code here\n",
        "# Uncomment this if you'd like to create a checkpoints folder in your drive\n",
        "print(\"Checkpoints directory is\", checkpoint_dir)\n",
        "if os.path.exists(checkpoint_dir):\n",
        "   print(\"Checkpoints folder already exists\")\n",
        "else:\n",
        "   print(\"Creating a checkpoints directory\")\n",
        "   os.makedirs(checkpoint_dir)"
      ],
      "execution_count": 88,
      "outputs": [
        {
          "output_type": "stream",
          "text": [
            "Checkpoints directory is /gdrive/My Drive/checkpoints/hw4\n",
            "Creating a checkpoints directory\n"
          ],
          "name": "stdout"
        }
      ]
    },
    {
      "cell_type": "markdown",
      "metadata": {
        "id": "nF_e7Sf1awnH",
        "colab_type": "text"
      },
      "source": [
        "### Restore the latest checkpoint (if it exists)."
      ]
    },
    {
      "cell_type": "code",
      "metadata": {
        "id": "jCDBhc4XnnGJ",
        "colab_type": "code",
        "colab": {
          "base_uri": "https://localhost:8080/",
          "height": 35
        },
        "outputId": "e7b77d3b-a4d9-42f0-d3b9-85119a1f799f"
      },
      "source": [
        "# You should not need to modify this code.\n",
        "latest = tf.train.latest_checkpoint(checkpoint_dir)\n",
        "if latest != None:\n",
        "  print(\"Loading weights from\", latest)\n",
        "  model.load_weights(latest)\n",
        "else:\n",
        "  print(\"Checkpoint not found. Starting from scratch\")"
      ],
      "execution_count": 89,
      "outputs": [
        {
          "output_type": "stream",
          "text": [
            "Checkpoint not found. Starting from scratch\n"
          ],
          "name": "stdout"
        }
      ]
    },
    {
      "cell_type": "markdown",
      "metadata": {
        "id": "mVCezYfDa6n_",
        "colab_type": "text"
      },
      "source": [
        "### Metrics"
      ]
    },
    {
      "cell_type": "code",
      "metadata": {
        "id": "gRVbkMtR_lp2",
        "colab_type": "code",
        "colab": {}
      },
      "source": [
        "# Utilities to help us record metrics.\n",
        "# You should not need to modify this code\n",
        "train_loss = tf.keras.metrics.Mean(name='train_loss')\n",
        "train_accuracy = tf.keras.metrics.Mean(name='train_accuracy')\n",
        "\n",
        "val_loss = tf.keras.metrics.BinaryCrossentropy(name='val_loss')\n",
        "val_accuracy = tf.keras.metrics.BinaryAccuracy(name='val_accuracy')"
      ],
      "execution_count": 0,
      "outputs": []
    },
    {
      "cell_type": "markdown",
      "metadata": {
        "id": "PahaAZPgu-hV",
        "colab_type": "text"
      },
      "source": [
        "### Code to evaluate on the validation dataset\n",
        "The validation dataset may be large. It would be wasteful to evaluate on the entire validation dataset each training epoch. Instead, you could evaluate every N epochs, or, you can use the below methoid to evaluate for a fixed number of steps (batches). This will give you a noisier evaluation, but a useful indicator of how your model is doing over time."
      ]
    },
    {
      "cell_type": "code",
      "metadata": {
        "id": "2mtca2G8FCF_",
        "colab_type": "code",
        "colab": {}
      },
      "source": [
        "# You should not need to modify this.\n",
        "def evaluate(max_steps=None):\n",
        "  steps = 0\n",
        "  for activation_batch, question_batch, answer_batch, path_batch in val_ds:\n",
        "    if max_steps != None and steps == max_steps:\n",
        "      break\n",
        "    predictions = model.predict(x=[activation_batch, question_batch])\n",
        "    steps += 1 \n",
        "    # Record metrics after each batch\n",
        "    val_loss(answer_batch, predictions)\n",
        "    val_accuracy(answer_batch, predictions)"
      ],
      "execution_count": 0,
      "outputs": []
    },
    {
      "cell_type": "markdown",
      "metadata": {
        "id": "VpRR3fbb03z3",
        "colab_type": "text"
      },
      "source": [
        "### Train the model\n",
        "As before, we'll write our training loop using ```train_on_batch```. This is intermediate in complexity between using ```.fit``` and writing everything from scratch using a ```GradientTape```. Because we're not using ```.fit```. Since we're not using .fit, there's a bit of extra code we need to write ourselves to track loss and accuracy as we go."
      ]
    },
    {
      "cell_type": "code",
      "metadata": {
        "id": "4e-1dK1YCR8D",
        "colab_type": "code",
        "colab": {
          "base_uri": "https://localhost:8080/",
          "height": 364
        },
        "outputId": "5430943a-633e-4361-b679-d9917014f7c6"
      },
      "source": [
        "# Your code here\n",
        "# Complete this cell (there are only a few parts to write)\n",
        "\n",
        "# Used to track loss and accuracy as we go\n",
        "# You should not need to modify these\n",
        "train_loss_history, train_acc_history = [], []\n",
        "val_loss_history, val_acc_history = [], []\n",
        "\n",
        "epochs = 10 # Your code here\n",
        "\n",
        "# Training loop\n",
        "for epoch in range(epochs):\n",
        "\n",
        "  start = time.time()\n",
        "\n",
        "  # Train for one epoch\n",
        "  for activation_batch, question_batch, answer_batch, path_batch in train_ds:\n",
        "    result = model.train_on_batch(x=[activation_batch, question_batch], y=answer_batch)\n",
        "\n",
        "    # Record metrics after each batch\n",
        "    train_loss(result[0])\n",
        "    train_accuracy(result[1])\n",
        "\n",
        "  # Evaluate for a few steps\n",
        "  evaluate(max_steps=100)\n",
        "\n",
        "  # Print progress\n",
        "  # You should not need to modify this.\n",
        "  template = 'Epoch {}, Loss: {:.2f}, Accuracy: {:.2f}, Val Loss {:.2f}, Val Accuracy {:.2f}, Time: {:.1f} secs'\n",
        "  print(template.format(epoch,\n",
        "                        train_loss.result(),\n",
        "                        train_accuracy.result() * 100,\n",
        "                        val_loss.result(),\n",
        "                        val_accuracy.result() * 100,\n",
        "                        time.time() - start))\n",
        "  \n",
        "  # Record history\n",
        "  train_loss_history.append(train_loss.result())\n",
        "  train_acc_history.append(train_accuracy.result() * 100)\n",
        "  val_loss_history.append(val_loss.result())\n",
        "  val_acc_history.append(val_accuracy.result() * 100)\n",
        "\n",
        "  # Reset the metrics for the next epoch\n",
        "  train_loss.reset_states()\n",
        "  train_accuracy.reset_states()\n",
        "  val_loss.reset_states()\n",
        "  val_accuracy.reset_states()\n",
        "\n",
        "  # Your code here\n",
        "  # Save a checkpoint after each epoch\n",
        "  print(\"Saving weights\")\n",
        "  model.save_weights(checkpoint_dir)"
      ],
      "execution_count": 92,
      "outputs": [
        {
          "output_type": "stream",
          "text": [
            "Epoch 0, Loss: 0.73, Accuracy: 51.43, Val Loss 0.68, Val Accuracy 55.50, Time: 62.1 secs\n",
            "Saving weights\n",
            "Epoch 1, Loss: 0.68, Accuracy: 57.05, Val Loss 0.65, Val Accuracy 61.25, Time: 65.5 secs\n",
            "Saving weights\n",
            "Epoch 2, Loss: 0.65, Accuracy: 61.74, Val Loss 0.62, Val Accuracy 65.97, Time: 65.2 secs\n",
            "Saving weights\n",
            "Epoch 3, Loss: 0.62, Accuracy: 64.75, Val Loss 0.60, Val Accuracy 67.56, Time: 66.3 secs\n",
            "Saving weights\n",
            "Epoch 4, Loss: 0.59, Accuracy: 67.42, Val Loss 0.58, Val Accuracy 68.56, Time: 64.5 secs\n",
            "Saving weights\n",
            "Epoch 5, Loss: 0.56, Accuracy: 69.46, Val Loss 0.55, Val Accuracy 70.28, Time: 61.8 secs\n",
            "Saving weights\n",
            "Epoch 6, Loss: 0.54, Accuracy: 71.66, Val Loss 0.56, Val Accuracy 70.56, Time: 63.5 secs\n",
            "Saving weights\n",
            "Epoch 7, Loss: 0.51, Accuracy: 73.71, Val Loss 0.57, Val Accuracy 68.88, Time: 61.6 secs\n",
            "Saving weights\n",
            "Epoch 8, Loss: 0.48, Accuracy: 75.31, Val Loss 0.59, Val Accuracy 67.53, Time: 62.4 secs\n",
            "Saving weights\n",
            "Epoch 9, Loss: 0.46, Accuracy: 76.99, Val Loss 0.51, Val Accuracy 73.03, Time: 62.9 secs\n",
            "Saving weights\n"
          ],
          "name": "stdout"
        }
      ]
    },
    {
      "cell_type": "markdown",
      "metadata": {
        "id": "4IQd0z3RwfIN",
        "colab_type": "text"
      },
      "source": [
        "### Create plots of your training and validation loss and accuracy"
      ]
    },
    {
      "cell_type": "code",
      "metadata": {
        "id": "U_UgdSUaoGND",
        "colab_type": "code",
        "colab": {
          "base_uri": "https://localhost:8080/",
          "height": 563
        },
        "outputId": "1a94f549-4ac1-42cf-d924-e6a121fd74b9"
      },
      "source": [
        "# Your code here\n",
        "epochs = range(10)\n",
        "\n",
        "plt.plot(epochs, train_acc_history, label='Training accuracy')\n",
        "plt.plot(epochs, val_acc_history, label='Validation accuracy')\n",
        "plt.title('Accuracy')\n",
        "plt.legend()\n",
        "plt.figure()\n",
        "\n",
        "plt.plot(epochs, train_loss_history, label='Training loss')\n",
        "plt.plot(epochs, val_loss_history, label='Validation loss')\n",
        "plt.title('Loss')\n",
        "plt.legend()\n",
        "plt.figure()\n",
        "\n",
        "plt.show()"
      ],
      "execution_count": 93,
      "outputs": [
        {
          "output_type": "display_data",
          "data": {
            "image/png": "[encoded data removed]",
            "text/plain": [
              "<Figure size 432x288 with 1 Axes>"
            ]
          },
          "metadata": {
            "tags": []
          }
        },
        {
          "output_type": "display_data",
          "data": {
            "image/png": "[encoded data removed]",
            "text/plain": [
              "<Figure size 432x288 with 1 Axes>"
            ]
          },
          "metadata": {
            "tags": []
          }
        },
        {
          "output_type": "display_data",
          "data": {
            "text/plain": [
              "<Figure size 432x288 with 0 Axes>"
            ]
          },
          "metadata": {
            "tags": []
          }
        }
      ]
    },
    {
      "cell_type": "markdown",
      "metadata": {
        "id": "uHLsgggo1DuN",
        "colab_type": "text"
      },
      "source": [
        "From the plots we can see the accuracy and loss of validation are to some extend good, so the model is working well."
      ]
    },
    {
      "cell_type": "markdown",
      "metadata": {
        "id": "KzTUcK3WclOi",
        "colab_type": "text"
      },
      "source": [
        "### At this point, you have end-to-end code to train VQA model\n",
        "Now you can begin working on increasing accuracy. For this assignment, your model should at least be able to fit your training split reasonably well. You do not need to build a model that performs well on validation to receive full credit (I recently made the starter dataset a bit more difficult, as a result - you may need to train using more data than I want you to do for a homework assignment)."
      ]
    },
    {
      "cell_type": "markdown",
      "metadata": {
        "id": "KCe18LhedPsg",
        "colab_type": "text"
      },
      "source": [
        "### Run one experiment to improve accuracy"
      ]
    },
    {
      "cell_type": "code",
      "metadata": {
        "id": "ujqBdK1rdEbq",
        "colab_type": "code",
        "colab": {}
      },
      "source": [
        "# Your code and brief writeup here\n",
        "# Think about how to improve the accuracy of your model, \n",
        "# either on the training or validation set.\n",
        "# Design and run an experiment to do so (by writting whatever code is necessary)\n",
        "# Include the code from your experiment here, and a few notes on the results\n",
        "# (one paragraph is fine).\n",
        "vision_model = Sequential()\n",
        "# Used to reduce the number of parameters (rather using a dense layer here).\n",
        "vision_model.add(tf.keras.layers.GlobalAveragePooling2D())\n",
        "# Output of your vision model\n",
        "encoded_image = vision_model(image_input) \n",
        "\n",
        "# Your code here\n",
        "# Write your test processing model that takes the vectorized and padded\n",
        "# question as input.\n",
        "# As in the guide above, you will want to produce an `encoded_question`\n",
        "# as output\n",
        "question_input = Input(shape=(MAX_SEQ_LEN,)) # your code\n",
        "embedded_question = Embedding(output_dim=256, input_dim=10000, input_length=MAX_SEQ_LEN)(question_input)\n",
        "encoded_question = LSTM(64)(embedded_question) # your code\n",
        "\n",
        "# Concatenate the encoded image and question\n",
        "merged = tf.keras.layers.concatenate([encoded_image, encoded_question])\n",
        "\n",
        "# Optionally, add a small dense layer\n",
        "dense = Dense(32, activation='relu')(merged)\n",
        "dense = Dense(32, activation='relu')(merged)\n",
        "# Next, add a binary classifier on top\n",
        "output = Dense(1, activation='sigmoid')(dense)\n",
        "\n",
        "# Your final model\n",
        "model = Model(inputs=[image_input, question_input], outputs=output)\n"
      ],
      "execution_count": 0,
      "outputs": []
    },
    {
      "cell_type": "code",
      "metadata": {
        "id": "8TmQsWkA2rpY",
        "colab_type": "code",
        "colab": {}
      },
      "source": [
        "model.compile(optimizer='adam', \n",
        "              loss='binary_crossentropy',\n",
        "              metrics=['accuracy'])"
      ],
      "execution_count": 0,
      "outputs": []
    },
    {
      "cell_type": "code",
      "metadata": {
        "id": "GWo9lVb32UH2",
        "colab_type": "code",
        "colab": {
          "base_uri": "https://localhost:8080/",
          "height": 191
        },
        "outputId": "224f52c6-614d-4c67-d8e6-a267c8fe1662"
      },
      "source": [
        "train_loss_history, train_acc_history = [], []\n",
        "val_loss_history, val_acc_history = [], []\n",
        "\n",
        "epochs = 5 # Your code here\n",
        "\n",
        "# Training loop\n",
        "for epoch in range(epochs):\n",
        "\n",
        "  start = time.time()\n",
        "\n",
        "  # Train for one epoch\n",
        "  for activation_batch, question_batch, answer_batch, path_batch in train_ds:\n",
        "    result = model.train_on_batch(x=[activation_batch, question_batch], y=answer_batch)\n",
        "\n",
        "    # Record metrics after each batch\n",
        "    train_loss(result[0])\n",
        "    train_accuracy(result[1])\n",
        "\n",
        "  # Evaluate for a few steps\n",
        "  evaluate(max_steps=100)\n",
        "\n",
        "  # Print progress\n",
        "  # You should not need to modify this.\n",
        "  template = 'Epoch {}, Loss: {:.2f}, Accuracy: {:.2f}, Val Loss {:.2f}, Val Accuracy {:.2f}, Time: {:.1f} secs'\n",
        "  print(template.format(epoch,\n",
        "                        train_loss.result(),\n",
        "                        train_accuracy.result() * 100,\n",
        "                        val_loss.result(),\n",
        "                        val_accuracy.result() * 100,\n",
        "                        time.time() - start))\n",
        "  \n",
        "  # Record history\n",
        "  train_loss_history.append(train_loss.result())\n",
        "  train_acc_history.append(train_accuracy.result() * 100)\n",
        "  val_loss_history.append(val_loss.result())\n",
        "  val_acc_history.append(val_accuracy.result() * 100)\n",
        "\n",
        "  # Reset the metrics for the next epoch\n",
        "  train_loss.reset_states()\n",
        "  train_accuracy.reset_states()\n",
        "  val_loss.reset_states()\n",
        "  val_accuracy.reset_states()\n",
        "\n",
        "  # Your code here\n",
        "  # Save a checkpoint after each epoch\n",
        "  print(\"Saving weights\")\n",
        "  model.save_weights(checkpoint_dir)"
      ],
      "execution_count": 98,
      "outputs": [
        {
          "output_type": "stream",
          "text": [
            "Epoch 0, Loss: 0.69, Accuracy: 50.09, Val Loss 0.69, Val Accuracy 49.53, Time: 61.3 secs\n",
            "Saving weights\n",
            "Epoch 1, Loss: 0.69, Accuracy: 50.10, Val Loss 0.69, Val Accuracy 49.34, Time: 61.7 secs\n",
            "Saving weights\n",
            "Epoch 2, Loss: 0.69, Accuracy: 50.03, Val Loss 0.69, Val Accuracy 49.28, Time: 63.0 secs\n",
            "Saving weights\n",
            "Epoch 3, Loss: 0.69, Accuracy: 50.02, Val Loss 0.69, Val Accuracy 49.25, Time: 63.3 secs\n",
            "Saving weights\n",
            "Epoch 4, Loss: 0.69, Accuracy: 50.06, Val Loss 0.69, Val Accuracy 49.66, Time: 66.0 secs\n",
            "Saving weights\n"
          ],
          "name": "stdout"
        }
      ]
    },
    {
      "cell_type": "markdown",
      "metadata": {
        "id": "YisAhTTCHxd_",
        "colab_type": "text"
      },
      "source": [
        "### Finally, evaluate your model on the test set\n",
        "How well did it do? This assignment is lengthy. For our purposes, it's fine to report the accuracy - and you're done :) \n",
        "\n",
        "For a proper evaluation, take a look at this [paper](https://arxiv.org/abs/1612.00837), as discussed in class.\n",
        "\n",
        "Note: if your model is performing poorly on the test set, you can still receive full credit for this assignment as mentioned above. "
      ]
    },
    {
      "cell_type": "code",
      "metadata": {
        "id": "NSQkgWG8Hyfu",
        "colab_type": "code",
        "colab": {}
      },
      "source": [
        "# Restore the latest checkpoint\n",
        "latest = tf.train.latest_checkpoint(checkpoint_dir)\n",
        "assert latest != None\n",
        "model.load_weights(latest)\n",
        "print(\"loaded weights from\", latest)"
      ],
      "execution_count": 0,
      "outputs": []
    },
    {
      "cell_type": "code",
      "metadata": {
        "id": "HJhBzTEfxHLg",
        "colab_type": "code",
        "colab": {}
      },
      "source": [
        "# Your code here\n",
        "# Calculate accuracy on the test set"
      ],
      "execution_count": 0,
      "outputs": []
    },
    {
      "cell_type": "markdown",
      "metadata": {
        "id": "EQZtYaVO5Dhe",
        "colab_type": "text"
      },
      "source": [
        "That's it! This was a long assignment, I hope it was a useful (and fun!) learning experience."
      ]
    }
  ]
}